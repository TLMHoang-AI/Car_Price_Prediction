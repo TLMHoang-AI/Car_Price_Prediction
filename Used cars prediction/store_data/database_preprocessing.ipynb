{
 "cells": [
  {
   "cell_type": "markdown",
   "metadata": {},
   "source": [
    "# Import libraries"
   ]
  },
  {
   "cell_type": "code",
   "execution_count": 46,
   "metadata": {},
   "outputs": [],
   "source": [
    "import pandas as pd\n",
    "import numpy as np"
   ]
  },
  {
   "cell_type": "code",
   "execution_count": 47,
   "metadata": {},
   "outputs": [
    {
     "name": "stdout",
     "output_type": "stream",
     "text": [
      "<class 'pandas.core.frame.DataFrame'>\n",
      "RangeIndex: 1455 entries, 0 to 1454\n",
      "Data columns (total 14 columns):\n",
      " #   Column      Non-Null Count  Dtype  \n",
      "---  ------      --------------  -----  \n",
      " 0   Link        1455 non-null   object \n",
      " 1   Title       1455 non-null   object \n",
      " 2   Nam SX      1174 non-null   float64\n",
      " 3   Kieu dang   964 non-null    object \n",
      " 4   Tinh trang  1174 non-null   object \n",
      " 5   Xuat xu     1174 non-null   object \n",
      " 6   Km da di    1170 non-null   object \n",
      " 7   Tinh thanh  1174 non-null   object \n",
      " 8   Quan huyen  1094 non-null   object \n",
      " 9   Hop so      1174 non-null   object \n",
      " 10  Nhien lieu  1174 non-null   object \n",
      " 11  Price       1174 non-null   object \n",
      " 12  Sale Date   1174 non-null   object \n",
      " 13  Error       281 non-null    object \n",
      "dtypes: float64(1), object(13)\n",
      "memory usage: 159.3+ KB\n"
     ]
    }
   ],
   "source": [
    "vehicle_data = pd.read_csv('cars_dataframe_with_details.csv')\n",
    "vehicle_data.info()"
   ]
  },
  {
   "cell_type": "code",
   "execution_count": 48,
   "metadata": {},
   "outputs": [
    {
     "data": {
      "text/html": [
       "<div>\n",
       "<style scoped>\n",
       "    .dataframe tbody tr th:only-of-type {\n",
       "        vertical-align: middle;\n",
       "    }\n",
       "\n",
       "    .dataframe tbody tr th {\n",
       "        vertical-align: top;\n",
       "    }\n",
       "\n",
       "    .dataframe thead th {\n",
       "        text-align: right;\n",
       "    }\n",
       "</style>\n",
       "<table border=\"1\" class=\"dataframe\">\n",
       "  <thead>\n",
       "    <tr style=\"text-align: right;\">\n",
       "      <th></th>\n",
       "      <th>Link</th>\n",
       "      <th>Title</th>\n",
       "      <th>Nam SX</th>\n",
       "      <th>Kieu dang</th>\n",
       "      <th>Tinh trang</th>\n",
       "      <th>Xuat xu</th>\n",
       "      <th>Km da di</th>\n",
       "      <th>Tinh thanh</th>\n",
       "      <th>Quan huyen</th>\n",
       "      <th>Hop so</th>\n",
       "      <th>Nhien lieu</th>\n",
       "      <th>Price</th>\n",
       "      <th>Sale Date</th>\n",
       "      <th>Error</th>\n",
       "    </tr>\n",
       "  </thead>\n",
       "  <tbody>\n",
       "    <tr>\n",
       "      <th>0</th>\n",
       "      <td>https://oto.com.vn/mua-ban-xe-lexus-lx-600-hcm...</td>\n",
       "      <td>2023 - Lexus LX 600</td>\n",
       "      <td>2023.0</td>\n",
       "      <td>SUV</td>\n",
       "      <td>Xe cu</td>\n",
       "      <td>Nhap khau</td>\n",
       "      <td>14.000 km</td>\n",
       "      <td>Tp.HCM</td>\n",
       "      <td>Thu Duc</td>\n",
       "      <td>So tu dong</td>\n",
       "      <td>May xang</td>\n",
       "      <td>8 ti 950 trieu</td>\n",
       "      <td>22/08/2024</td>\n",
       "      <td>NaN</td>\n",
       "    </tr>\n",
       "    <tr>\n",
       "      <th>1</th>\n",
       "      <td>https://oto.com.vn/mua-ban-xe-mercedes-benz-cl...</td>\n",
       "      <td>2014 - Mercedes-Benz CLA 200 1.6 I4</td>\n",
       "      <td>2014.0</td>\n",
       "      <td>Sedan</td>\n",
       "      <td>Xe cu</td>\n",
       "      <td>Nhap khau</td>\n",
       "      <td>60.000 km</td>\n",
       "      <td>Ha Noi</td>\n",
       "      <td>Nam Tu Liem</td>\n",
       "      <td>So tu dong</td>\n",
       "      <td>May xang</td>\n",
       "      <td>499 trieu</td>\n",
       "      <td>8/9/2024</td>\n",
       "      <td>NaN</td>\n",
       "    </tr>\n",
       "    <tr>\n",
       "      <th>2</th>\n",
       "      <td>https://oto.com.vn/mua-ban-xe-mercedes-benz-c2...</td>\n",
       "      <td>2016 - Mercedes-Benz C200 2.0 AT</td>\n",
       "      <td>2016.0</td>\n",
       "      <td>Sedan</td>\n",
       "      <td>Xe cu</td>\n",
       "      <td>Trong nuoc</td>\n",
       "      <td>95.000 km</td>\n",
       "      <td>Ha Noi</td>\n",
       "      <td>Nam Tu Liem</td>\n",
       "      <td>So tu dong</td>\n",
       "      <td>May xang</td>\n",
       "      <td>639 trieu</td>\n",
       "      <td>17/09/2024</td>\n",
       "      <td>NaN</td>\n",
       "    </tr>\n",
       "    <tr>\n",
       "      <th>3</th>\n",
       "      <td>https://oto.com.vn/mua-ban-xe-mercedes-benz-c-...</td>\n",
       "      <td>2015 - Mercedes-Benz C250 AMG</td>\n",
       "      <td>2015.0</td>\n",
       "      <td>Sedan</td>\n",
       "      <td>Xe cu</td>\n",
       "      <td>Trong nuoc</td>\n",
       "      <td>100.000 km</td>\n",
       "      <td>Ha Noi</td>\n",
       "      <td>Nam Tu Liem</td>\n",
       "      <td>So tu dong</td>\n",
       "      <td>May xang</td>\n",
       "      <td>666 trieu</td>\n",
       "      <td>3/9/2024</td>\n",
       "      <td>NaN</td>\n",
       "    </tr>\n",
       "    <tr>\n",
       "      <th>4</th>\n",
       "      <td>https://oto.com.vn/mua-ban-xe-mercedes-benz-c2...</td>\n",
       "      <td>2014 - Mercedes-Benz C200 Edition C</td>\n",
       "      <td>2014.0</td>\n",
       "      <td>Sedan</td>\n",
       "      <td>Xe cu</td>\n",
       "      <td>Trong nuoc</td>\n",
       "      <td>100.000 km</td>\n",
       "      <td>Ha Noi</td>\n",
       "      <td>Nam Tu Liem</td>\n",
       "      <td>So tu dong</td>\n",
       "      <td>May xang</td>\n",
       "      <td>420 trieu</td>\n",
       "      <td>2/9/2024</td>\n",
       "      <td>NaN</td>\n",
       "    </tr>\n",
       "    <tr>\n",
       "      <th>5</th>\n",
       "      <td>https://oto.com.vn/mua-ban-xe-mercedes-benz-s4...</td>\n",
       "      <td>2016 - Mercedes-Benz S400 3.0 V6</td>\n",
       "      <td>2016.0</td>\n",
       "      <td>Sedan</td>\n",
       "      <td>Xe cu</td>\n",
       "      <td>Trong nuoc</td>\n",
       "      <td>80.000 km</td>\n",
       "      <td>Ha Noi</td>\n",
       "      <td>Nam Tu Liem</td>\n",
       "      <td>So tu dong</td>\n",
       "      <td>May xang</td>\n",
       "      <td>1 ti 399 trieu</td>\n",
       "      <td>8/9/2024</td>\n",
       "      <td>NaN</td>\n",
       "    </tr>\n",
       "    <tr>\n",
       "      <th>6</th>\n",
       "      <td>https://oto.com.vn/mua-ban-xe-ford-focus-hcm/x...</td>\n",
       "      <td>2017 - Ford Focus 1.5L EcoBoost Sport</td>\n",
       "      <td>2017.0</td>\n",
       "      <td>SUV</td>\n",
       "      <td>Xe cu</td>\n",
       "      <td>Trong nuoc</td>\n",
       "      <td>82.000 km</td>\n",
       "      <td>Tp.HCM</td>\n",
       "      <td>Thu Duc</td>\n",
       "      <td>So tu dong</td>\n",
       "      <td>May xang</td>\n",
       "      <td>445 trieu</td>\n",
       "      <td>19/09/2024</td>\n",
       "      <td>NaN</td>\n",
       "    </tr>\n",
       "    <tr>\n",
       "      <th>7</th>\n",
       "      <td>https://oto.com.vn/mua-ban-xe-ford-everest-hcm...</td>\n",
       "      <td>2021 - Ford Everest Titanium 2.0 AT 4x2</td>\n",
       "      <td>2021.0</td>\n",
       "      <td>SUV</td>\n",
       "      <td>Xe cu</td>\n",
       "      <td>Trong nuoc</td>\n",
       "      <td>41.000 km</td>\n",
       "      <td>Tp.HCM</td>\n",
       "      <td>Thu Duc</td>\n",
       "      <td>So tu dong</td>\n",
       "      <td>May xang</td>\n",
       "      <td>925 trieu</td>\n",
       "      <td>19/09/2024</td>\n",
       "      <td>NaN</td>\n",
       "    </tr>\n",
       "    <tr>\n",
       "      <th>8</th>\n",
       "      <td>https://oto.com.vn/mua-ban-xe-ford-explorer-hc...</td>\n",
       "      <td>2022 - Ford Explorer Limited</td>\n",
       "      <td>2022.0</td>\n",
       "      <td>SUV</td>\n",
       "      <td>Xe cu</td>\n",
       "      <td>Nhap khau</td>\n",
       "      <td>4.000 km</td>\n",
       "      <td>Tp.HCM</td>\n",
       "      <td>Quan 8</td>\n",
       "      <td>So tu dong</td>\n",
       "      <td>May xang</td>\n",
       "      <td>1 ti 950 trieu</td>\n",
       "      <td>19/09/2024</td>\n",
       "      <td>NaN</td>\n",
       "    </tr>\n",
       "    <tr>\n",
       "      <th>9</th>\n",
       "      <td>https://oto.com.vn/mua-ban-xe-ford-ranger-hcm/...</td>\n",
       "      <td>2022 - Ford Ranger Raptor</td>\n",
       "      <td>2022.0</td>\n",
       "      <td>Ban Tai</td>\n",
       "      <td>Xe cu</td>\n",
       "      <td>Nhap khau</td>\n",
       "      <td>48.000 km</td>\n",
       "      <td>Tp.HCM</td>\n",
       "      <td>Quan 8</td>\n",
       "      <td>So tu dong</td>\n",
       "      <td>May dau</td>\n",
       "      <td>995 trieu</td>\n",
       "      <td>15/09/2024</td>\n",
       "      <td>NaN</td>\n",
       "    </tr>\n",
       "  </tbody>\n",
       "</table>\n",
       "</div>"
      ],
      "text/plain": [
       "                                                Link  \\\n",
       "0  https://oto.com.vn/mua-ban-xe-lexus-lx-600-hcm...   \n",
       "1  https://oto.com.vn/mua-ban-xe-mercedes-benz-cl...   \n",
       "2  https://oto.com.vn/mua-ban-xe-mercedes-benz-c2...   \n",
       "3  https://oto.com.vn/mua-ban-xe-mercedes-benz-c-...   \n",
       "4  https://oto.com.vn/mua-ban-xe-mercedes-benz-c2...   \n",
       "5  https://oto.com.vn/mua-ban-xe-mercedes-benz-s4...   \n",
       "6  https://oto.com.vn/mua-ban-xe-ford-focus-hcm/x...   \n",
       "7  https://oto.com.vn/mua-ban-xe-ford-everest-hcm...   \n",
       "8  https://oto.com.vn/mua-ban-xe-ford-explorer-hc...   \n",
       "9  https://oto.com.vn/mua-ban-xe-ford-ranger-hcm/...   \n",
       "\n",
       "                                     Title  Nam SX Kieu dang Tinh trang  \\\n",
       "0                      2023 - Lexus LX 600  2023.0       SUV      Xe cu   \n",
       "1      2014 - Mercedes-Benz CLA 200 1.6 I4  2014.0     Sedan      Xe cu   \n",
       "2         2016 - Mercedes-Benz C200 2.0 AT  2016.0     Sedan      Xe cu   \n",
       "3            2015 - Mercedes-Benz C250 AMG  2015.0     Sedan      Xe cu   \n",
       "4      2014 - Mercedes-Benz C200 Edition C  2014.0     Sedan      Xe cu   \n",
       "5         2016 - Mercedes-Benz S400 3.0 V6  2016.0     Sedan      Xe cu   \n",
       "6    2017 - Ford Focus 1.5L EcoBoost Sport  2017.0       SUV      Xe cu   \n",
       "7  2021 - Ford Everest Titanium 2.0 AT 4x2  2021.0       SUV      Xe cu   \n",
       "8             2022 - Ford Explorer Limited  2022.0       SUV      Xe cu   \n",
       "9                2022 - Ford Ranger Raptor  2022.0   Ban Tai      Xe cu   \n",
       "\n",
       "      Xuat xu    Km da di Tinh thanh   Quan huyen      Hop so Nhien lieu  \\\n",
       "0   Nhap khau   14.000 km     Tp.HCM      Thu Duc  So tu dong   May xang   \n",
       "1   Nhap khau   60.000 km     Ha Noi  Nam Tu Liem  So tu dong   May xang   \n",
       "2  Trong nuoc   95.000 km     Ha Noi  Nam Tu Liem  So tu dong   May xang   \n",
       "3  Trong nuoc  100.000 km     Ha Noi  Nam Tu Liem  So tu dong   May xang   \n",
       "4  Trong nuoc  100.000 km     Ha Noi  Nam Tu Liem  So tu dong   May xang   \n",
       "5  Trong nuoc   80.000 km     Ha Noi  Nam Tu Liem  So tu dong   May xang   \n",
       "6  Trong nuoc   82.000 km     Tp.HCM      Thu Duc  So tu dong   May xang   \n",
       "7  Trong nuoc   41.000 km     Tp.HCM      Thu Duc  So tu dong   May xang   \n",
       "8   Nhap khau    4.000 km     Tp.HCM       Quan 8  So tu dong   May xang   \n",
       "9   Nhap khau   48.000 km     Tp.HCM       Quan 8  So tu dong    May dau   \n",
       "\n",
       "            Price   Sale Date Error  \n",
       "0  8 ti 950 trieu  22/08/2024   NaN  \n",
       "1       499 trieu    8/9/2024   NaN  \n",
       "2       639 trieu  17/09/2024   NaN  \n",
       "3       666 trieu    3/9/2024   NaN  \n",
       "4       420 trieu    2/9/2024   NaN  \n",
       "5  1 ti 399 trieu    8/9/2024   NaN  \n",
       "6       445 trieu  19/09/2024   NaN  \n",
       "7       925 trieu  19/09/2024   NaN  \n",
       "8  1 ti 950 trieu  19/09/2024   NaN  \n",
       "9       995 trieu  15/09/2024   NaN  "
      ]
     },
     "execution_count": 48,
     "metadata": {},
     "output_type": "execute_result"
    }
   ],
   "source": [
    "vehicle_data.head(10)"
   ]
  },
  {
   "cell_type": "markdown",
   "metadata": {},
   "source": [
    "# Formating"
   ]
  },
  {
   "cell_type": "code",
   "execution_count": 49,
   "metadata": {},
   "outputs": [
    {
     "name": "stdout",
     "output_type": "stream",
     "text": [
      "\n",
      "Kiểu dữ liệu của cột 'Km da di':\n",
      "float64\n"
     ]
    }
   ],
   "source": [
    "vehicle_data['Km da di'] = vehicle_data['Km da di'].apply(\n",
    "    lambda x: int(x.replace('.', '').replace(' km', '')) if isinstance(x, str) else np.nan\n",
    ")\n",
    "\n",
    "print(\"\\nKiểu dữ liệu của cột 'Km da di':\")\n",
    "print(vehicle_data['Km da di'].dtype)"
   ]
  },
  {
   "cell_type": "code",
   "execution_count": 50,
   "metadata": {},
   "outputs": [
    {
     "name": "stdout",
     "output_type": "stream",
     "text": [
      "<class 'pandas.core.frame.DataFrame'>\n",
      "RangeIndex: 1455 entries, 0 to 1454\n",
      "Data columns (total 14 columns):\n",
      " #   Column      Non-Null Count  Dtype  \n",
      "---  ------      --------------  -----  \n",
      " 0   Link        1455 non-null   object \n",
      " 1   Title       1455 non-null   object \n",
      " 2   Nam SX      1174 non-null   float64\n",
      " 3   Kieu dang   964 non-null    object \n",
      " 4   Tinh trang  1174 non-null   object \n",
      " 5   Xuat xu     1174 non-null   object \n",
      " 6   Km da di    1170 non-null   float64\n",
      " 7   Tinh thanh  1174 non-null   object \n",
      " 8   Quan huyen  1094 non-null   object \n",
      " 9   Hop so      1174 non-null   object \n",
      " 10  Nhien lieu  1174 non-null   object \n",
      " 11  Price       1174 non-null   object \n",
      " 12  Sale Date   1174 non-null   object \n",
      " 13  Error       281 non-null    object \n",
      "dtypes: float64(2), object(12)\n",
      "memory usage: 159.3+ KB\n"
     ]
    }
   ],
   "source": [
    "vehicle_data.info()"
   ]
  },
  {
   "cell_type": "code",
   "execution_count": 51,
   "metadata": {},
   "outputs": [
    {
     "name": "stdout",
     "output_type": "stream",
     "text": [
      "Index(['Link', 'Title', 'Year', 'Body Type', 'Condition', 'Origin', 'Mileage',\n",
      "       'City', 'District', 'Transmission', 'Fuel Type', 'Price', 'Sale Date',\n",
      "       'Error'],\n",
      "      dtype='object')\n"
     ]
    }
   ],
   "source": [
    "vehicle_data.rename(columns={\n",
    "    'Nam SX': 'Year',\n",
    "    'Kieu dang': 'Body Type',\n",
    "    'Tinh trang': 'Condition',\n",
    "    'Xuat xu': 'Origin',\n",
    "    'Km da di': 'Mileage',\n",
    "    'Tinh thanh': 'City',\n",
    "    'Quan huyen': 'District',\n",
    "    'Hop so': 'Transmission',\n",
    "    'Nhien lieu': 'Fuel Type',\n",
    "}, inplace=True)\n",
    "\n",
    "print(vehicle_data.columns)\n"
   ]
  },
  {
   "cell_type": "markdown",
   "metadata": {},
   "source": [
    "# Handle some important missing value"
   ]
  },
  {
   "cell_type": "code",
   "execution_count": 52,
   "metadata": {},
   "outputs": [
    {
     "name": "stdout",
     "output_type": "stream",
     "text": [
      "<class 'pandas.core.frame.DataFrame'>\n",
      "Index: 1174 entries, 0 to 1454\n",
      "Data columns (total 13 columns):\n",
      " #   Column        Non-Null Count  Dtype  \n",
      "---  ------        --------------  -----  \n",
      " 0   Link          1174 non-null   object \n",
      " 1   Title         1174 non-null   object \n",
      " 2   Year          1174 non-null   float64\n",
      " 3   Body Type     964 non-null    object \n",
      " 4   Condition     1174 non-null   object \n",
      " 5   Origin        1174 non-null   object \n",
      " 6   Mileage       1170 non-null   float64\n",
      " 7   City          1174 non-null   object \n",
      " 8   District      1094 non-null   object \n",
      " 9   Transmission  1174 non-null   object \n",
      " 10  Fuel Type     1174 non-null   object \n",
      " 11  Price         1174 non-null   object \n",
      " 12  Sale Date     1174 non-null   object \n",
      "dtypes: float64(2), object(11)\n",
      "memory usage: 128.4+ KB\n"
     ]
    }
   ],
   "source": [
    "vehicle_data = vehicle_data.dropna(subset=['Price'])\n",
    "vehicle_data.drop(columns=['Error'], inplace=True)\n",
    "vehicle_data.info()"
   ]
  },
  {
   "cell_type": "markdown",
   "metadata": {},
   "source": [
    "#  Feature extraction"
   ]
  },
  {
   "cell_type": "code",
   "execution_count": 53,
   "metadata": {},
   "outputs": [],
   "source": [
    "vehicle_data.insert(0, 'car_id', range(1, len(vehicle_data) + 1))\n"
   ]
  },
  {
   "cell_type": "code",
   "execution_count": 54,
   "metadata": {},
   "outputs": [],
   "source": [
    "def extract_manufacturer(car_info):\n",
    "    return car_info.split(\" - \")[1].split()[0]"
   ]
  },
  {
   "cell_type": "code",
   "execution_count": 55,
   "metadata": {},
   "outputs": [
    {
     "name": "stdout",
     "output_type": "stream",
     "text": [
      "['Lexus' 'Mercedes-Benz' 'Ford' 'Porsche' 'Toyota' 'Mitsubishi' 'Nissan'\n",
      " 'Hyundai' 'Infiniti' 'Kia' 'Honda' 'Chevrolet' 'VinFast' 'Bentley'\n",
      " 'Land Rover' 'Audi' 'BMW' 'Daewoo' 'McLaren' 'Mazda' 'Suzuki' 'Jaguar'\n",
      " 'Peugeot' 'Ferrari' 'MG' 'Volvo' 'Rolls-Royce' 'Cadillac' 'Jeep'\n",
      " 'Volkswagen' 'Dodge' 'Lincoln' 'Isuzu' 'Renault' 'Mini']\n"
     ]
    }
   ],
   "source": [
    "vehicle_data['manufacturer'] = vehicle_data['Title'].apply(extract_manufacturer)\n",
    "vehicle_data['manufacturer'] = vehicle_data['manufacturer'].replace('Land', 'Land Rover')\n",
    "print(vehicle_data['manufacturer'].unique())"
   ]
  },
  {
   "cell_type": "code",
   "execution_count": 56,
   "metadata": {},
   "outputs": [],
   "source": [
    "vehicle_data.to_csv('Used_car_data_promax.csv', index=False, encoding='utf-8')"
   ]
  }
 ],
 "metadata": {
  "kernelspec": {
   "display_name": "Python 3",
   "language": "python",
   "name": "python3"
  },
  "language_info": {
   "codemirror_mode": {
    "name": "ipython",
    "version": 3
   },
   "file_extension": ".py",
   "mimetype": "text/x-python",
   "name": "python",
   "nbconvert_exporter": "python",
   "pygments_lexer": "ipython3",
   "version": "3.11.9"
  }
 },
 "nbformat": 4,
 "nbformat_minor": 2
}
