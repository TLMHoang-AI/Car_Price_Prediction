{
 "cells": [
  {
   "cell_type": "code",
   "execution_count": 1,
   "metadata": {},
   "outputs": [],
   "source": [
    "import pandas as pd\n",
    "import pyodbc\n",
    "import numpy as np"
   ]
  },
  {
   "cell_type": "code",
   "execution_count": 2,
   "metadata": {},
   "outputs": [],
   "source": [
    "server = 'NITRO\\\\SQLEXPRESS'\n",
    "database = 'cars_data'\n",
    "driver = 'ODBC Driver 17 for SQL Server'"
   ]
  },
  {
   "cell_type": "code",
   "execution_count": 3,
   "metadata": {},
   "outputs": [],
   "source": [
    "connection_string = f'DRIVER={{{driver}}};SERVER={server};DATABASE={database};Trusted_Connection=yes;'\n",
    "conn = pyodbc.connect(connection_string)\n",
    "cursor = conn.cursor()"
   ]
  },
  {
   "cell_type": "code",
   "execution_count": 4,
   "metadata": {},
   "outputs": [],
   "source": [
    "def get_table(connection):\n",
    "    cursor = connection.cursor()\n",
    "    cursor.execute(\"SELECT table_name FROM information_schema.tables WHERE table_type = 'BASE TABLE' AND table_name LIKE '%[_]%'\")\n",
    "    tables = cursor.fetchall()\n",
    "    cursor.close()\n",
    "    return [table[0] for table in tables]"
   ]
  },
  {
   "cell_type": "code",
   "execution_count": 5,
   "metadata": {},
   "outputs": [],
   "source": [
    "car_tables = get_table(conn)\n",
    "dfs = {}"
   ]
  },
  {
   "cell_type": "code",
   "execution_count": 6,
   "metadata": {},
   "outputs": [
    {
     "name": "stdout",
     "output_type": "stream",
     "text": [
      "Data from table 'Final_data' retrieved successfully\n"
     ]
    },
    {
     "name": "stderr",
     "output_type": "stream",
     "text": [
      "C:\\Users\\ADMIN\\AppData\\Local\\Temp\\ipykernel_4852\\3683832141.py:4: UserWarning: pandas only supports SQLAlchemy connectable (engine/connection) or database string URI or sqlite3 DBAPI2 connection. Other DBAPI2 objects are not tested. Please consider using SQLAlchemy.\n",
      "  df = pd.read_sql(query, conn)\n"
     ]
    }
   ],
   "source": [
    "\n",
    "for table in car_tables:\n",
    "    query = f\"SELECT * FROM [{table}]\"\n",
    "    try:\n",
    "        df = pd.read_sql(query, conn)\n",
    "        dfs[table] = df\n",
    "        print(f\"Data from table '{table}' retrieved successfully\")\n",
    "    \n",
    "    except Exception as e:\n",
    "        print(f\"Error retrieving data from table '{table}': {e}\")\n",
    "\n"
   ]
  },
  {
   "cell_type": "code",
   "execution_count": 7,
   "metadata": {},
   "outputs": [],
   "source": [
    "cursor.close()\n",
    "conn.close()\n"
   ]
  },
  {
   "cell_type": "code",
   "execution_count": 8,
   "metadata": {},
   "outputs": [
    {
     "ename": "KeyError",
     "evalue": "'used_Car'",
     "output_type": "error",
     "traceback": [
      "\u001b[1;31m---------------------------------------------------------------------------\u001b[0m",
      "\u001b[1;31mKeyError\u001b[0m                                  Traceback (most recent call last)",
      "Cell \u001b[1;32mIn[8], line 1\u001b[0m\n\u001b[1;32m----> 1\u001b[0m \u001b[43mdfs\u001b[49m\u001b[43m[\u001b[49m\u001b[38;5;124;43m\"\u001b[39;49m\u001b[38;5;124;43mused_Car\u001b[39;49m\u001b[38;5;124;43m\"\u001b[39;49m\u001b[43m]\u001b[49m\u001b[38;5;241m.\u001b[39mhead()\n",
      "\u001b[1;31mKeyError\u001b[0m: 'used_Car'"
     ]
    }
   ],
   "source": [
    "dfs[\"used_Car\"].head()"
   ]
  },
  {
   "cell_type": "markdown",
   "metadata": {},
   "source": [
    "## Prep"
   ]
  },
  {
   "cell_type": "code",
   "execution_count": 39,
   "metadata": {},
   "outputs": [],
   "source": [
    "df_bonbanh = dfs['bonbanh_inf']\n",
    "df_usedcar = dfs['used_Car']\n",
    "df_newcar = dfs['newcar_inf']"
   ]
  },
  {
   "cell_type": "markdown",
   "metadata": {},
   "source": [
    "## bonbanh"
   ]
  },
  {
   "cell_type": "markdown",
   "metadata": {},
   "source": [
    "## handle None values"
   ]
  },
  {
   "cell_type": "code",
   "execution_count": 43,
   "metadata": {},
   "outputs": [
    {
     "name": "stdout",
     "output_type": "stream",
     "text": [
      "<class 'pandas.core.frame.DataFrame'>\n",
      "RangeIndex: 12417 entries, 0 to 12416\n",
      "Data columns (total 13 columns):\n",
      " #   Column       Non-Null Count  Dtype \n",
      "---  ------       --------------  ----- \n",
      " 0   name         12417 non-null  object\n",
      " 1   Price        12417 non-null  object\n",
      " 2   SellDate     12417 non-null  object\n",
      " 3   Date         12417 non-null  object\n",
      " 4   Condition    12417 non-null  object\n",
      " 5   Mileage      12417 non-null  object\n",
      " 6   Origin       12417 non-null  object\n",
      " 7   BodyType     12417 non-null  object\n",
      " 8   EngineType   12417 non-null  object\n",
      " 9   Color        12417 non-null  object\n",
      " 10  ColorInside  12417 non-null  object\n",
      " 11  Seats        12417 non-null  object\n",
      " 12  Doors        12417 non-null  object\n",
      "dtypes: object(13)\n",
      "memory usage: 1.2+ MB\n"
     ]
    },
    {
     "data": {
      "text/plain": [
       "name           0\n",
       "Price          0\n",
       "SellDate       0\n",
       "Date           0\n",
       "Condition      0\n",
       "Mileage        0\n",
       "Origin         0\n",
       "BodyType       0\n",
       "EngineType     0\n",
       "Color          0\n",
       "ColorInside    0\n",
       "Seats          0\n",
       "Doors          0\n",
       "dtype: int64"
      ]
     },
     "execution_count": 43,
     "metadata": {},
     "output_type": "execute_result"
    }
   ],
   "source": [
    "df_bonbanh.info()\n",
    "df_bonbanh.isnull().sum()"
   ]
  },
  {
   "cell_type": "code",
   "execution_count": 45,
   "metadata": {},
   "outputs": [
    {
     "name": "stdout",
     "output_type": "stream",
     "text": [
      "<class 'pandas.core.frame.DataFrame'>\n",
      "RangeIndex: 12417 entries, 0 to 12416\n",
      "Data columns (total 13 columns):\n",
      " #   Column       Non-Null Count  Dtype \n",
      "---  ------       --------------  ----- \n",
      " 0   name         12417 non-null  object\n",
      " 1   Price        12417 non-null  object\n",
      " 2   SellDate     12417 non-null  object\n",
      " 3   Date         12417 non-null  object\n",
      " 4   Condition    12417 non-null  object\n",
      " 5   Mileage      12417 non-null  object\n",
      " 6   Origin       12417 non-null  object\n",
      " 7   BodyType     12417 non-null  object\n",
      " 8   EngineType   12417 non-null  object\n",
      " 9   Color        12090 non-null  object\n",
      " 10  ColorInside  12255 non-null  object\n",
      " 11  Seats        12417 non-null  object\n",
      " 12  Doors        9537 non-null   object\n",
      "dtypes: object(13)\n",
      "memory usage: 1.2+ MB\n"
     ]
    }
   ],
   "source": [
    "df_bonbanh.replace({'-': np.nan, 'None': np.nan}, inplace=True)\n",
    "df_bonbanh.info()"
   ]
  },
  {
   "cell_type": "code",
   "execution_count": null,
   "metadata": {},
   "outputs": [],
   "source": []
  }
 ],
 "metadata": {
  "kernelspec": {
   "display_name": "Python 3",
   "language": "python",
   "name": "python3"
  },
  "language_info": {
   "codemirror_mode": {
    "name": "ipython",
    "version": 3
   },
   "file_extension": ".py",
   "mimetype": "text/x-python",
   "name": "python",
   "nbconvert_exporter": "python",
   "pygments_lexer": "ipython3",
   "version": "3.10.11"
  }
 },
 "nbformat": 4,
 "nbformat_minor": 2
}
