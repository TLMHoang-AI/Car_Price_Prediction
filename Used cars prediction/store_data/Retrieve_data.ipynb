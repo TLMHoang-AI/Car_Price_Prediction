{
 "cells": [
  {
   "cell_type": "code",
   "execution_count": 1,
   "metadata": {},
   "outputs": [],
   "source": [
    "import pandas as pd\n",
    "import pyodbc"
   ]
  },
  {
   "cell_type": "code",
   "execution_count": 2,
   "metadata": {},
   "outputs": [],
   "source": [
    "server = 'NITRO\\\\SQLEXPRESS'\n",
    "database = 'cars_data'\n",
    "driver = 'ODBC Driver 17 for SQL Server'"
   ]
  },
  {
   "cell_type": "code",
   "execution_count": 3,
   "metadata": {},
   "outputs": [],
   "source": [
    "connection_string = f'DRIVER={{{driver}}};SERVER={server};DATABASE={database};Trusted_Connection=yes;'\n",
    "conn = pyodbc.connect(connection_string)\n",
    "cursor = conn.cursor()"
   ]
  },
  {
   "cell_type": "code",
   "execution_count": 4,
   "metadata": {},
   "outputs": [],
   "source": [
    "def get_table(connection):\n",
    "    cursor = connection.cursor()\n",
    "    cursor.execute(\"SELECT table_name FROM information_schema.tables WHERE table_type = 'BASE TABLE' AND table_name LIKE '%[_]%'\")\n",
    "    tables = cursor.fetchall()\n",
    "    cursor.close()\n",
    "    return [table[0] for table in tables]\n"
   ]
  },
  {
   "cell_type": "code",
   "execution_count": 5,
   "metadata": {},
   "outputs": [
    {
     "name": "stdout",
     "output_type": "stream",
     "text": [
      "Data from table 'bonbanh_inf' retrieved successfully\n",
      "Data from table 'newcar_inf' retrieved successfully\n"
     ]
    },
    {
     "name": "stderr",
     "output_type": "stream",
     "text": [
      "C:\\Users\\ADMIN\\AppData\\Local\\Temp\\ipykernel_14816\\4090116934.py:7: UserWarning: pandas only supports SQLAlchemy connectable (engine/connection) or database string URI or sqlite3 DBAPI2 connection. Other DBAPI2 objects are not tested. Please consider using SQLAlchemy.\n",
      "  df = pd.read_sql(query, conn)\n"
     ]
    }
   ],
   "source": [
    "car_tables = get_table(conn)\n",
    "dfs = {}\n",
    "\n",
    "for table in car_tables:\n",
    "    query = f\"SELECT * FROM [{table}]\"\n",
    "    try:\n",
    "        df = pd.read_sql(query, conn)\n",
    "        dfs[table] = df\n",
    "        print(f\"Data from table '{table}' retrieved successfully\")\n",
    "    \n",
    "    except Exception as e:\n",
    "        print(f\"Error retrieving data from table '{table}': {e}\")\n",
    "\n"
   ]
  },
  {
   "cell_type": "code",
   "execution_count": 6,
   "metadata": {},
   "outputs": [],
   "source": [
    "combined_df = pd.concat(dfs.values(), ignore_index=True)"
   ]
  },
  {
   "cell_type": "code",
   "execution_count": 7,
   "metadata": {},
   "outputs": [],
   "source": [
    "cursor.close()\n",
    "conn.close()"
   ]
  },
  {
   "cell_type": "code",
   "execution_count": 9,
   "metadata": {},
   "outputs": [
    {
     "data": {
      "text/html": [
       "<div>\n",
       "<style scoped>\n",
       "    .dataframe tbody tr th:only-of-type {\n",
       "        vertical-align: middle;\n",
       "    }\n",
       "\n",
       "    .dataframe tbody tr th {\n",
       "        vertical-align: top;\n",
       "    }\n",
       "\n",
       "    .dataframe thead th {\n",
       "        text-align: right;\n",
       "    }\n",
       "</style>\n",
       "<table border=\"1\" class=\"dataframe\">\n",
       "  <thead>\n",
       "    <tr style=\"text-align: right;\">\n",
       "      <th></th>\n",
       "      <th>name</th>\n",
       "      <th>Price</th>\n",
       "      <th>SellDate</th>\n",
       "      <th>Date</th>\n",
       "      <th>Condition</th>\n",
       "      <th>Mileage</th>\n",
       "      <th>Origin</th>\n",
       "      <th>BodyType</th>\n",
       "      <th>EngineType</th>\n",
       "      <th>Color</th>\n",
       "      <th>...</th>\n",
       "      <th>origin</th>\n",
       "      <th>body_type</th>\n",
       "      <th>seating_capacity</th>\n",
       "      <th>engine</th>\n",
       "      <th>torque</th>\n",
       "      <th>transmission</th>\n",
       "      <th>max_power</th>\n",
       "      <th>drive</th>\n",
       "      <th>fuel_type</th>\n",
       "      <th>fuel_capacity</th>\n",
       "    </tr>\n",
       "  </thead>\n",
       "  <tbody>\n",
       "    <tr>\n",
       "      <th>0</th>\n",
       "      <td>Xe Toyota Camry 2.5Q 2021 - 999 Trieu</td>\n",
       "      <td>999 Trieu</td>\n",
       "      <td>19/10/2024</td>\n",
       "      <td>2021</td>\n",
       "      <td>Xe da dung</td>\n",
       "      <td>20,000 Km</td>\n",
       "      <td>Nhap khau</td>\n",
       "      <td>Sedan</td>\n",
       "      <td>Xang 2.5 L</td>\n",
       "      <td>Trang</td>\n",
       "      <td>...</td>\n",
       "      <td>NaN</td>\n",
       "      <td>NaN</td>\n",
       "      <td>NaN</td>\n",
       "      <td>NaN</td>\n",
       "      <td>NaN</td>\n",
       "      <td>NaN</td>\n",
       "      <td>NaN</td>\n",
       "      <td>NaN</td>\n",
       "      <td>NaN</td>\n",
       "      <td>NaN</td>\n",
       "    </tr>\n",
       "    <tr>\n",
       "      <th>1</th>\n",
       "      <td>Xe Chevrolet Captiva LTZ Maxx 2.4 AT 2009 - 17...</td>\n",
       "      <td>178 Trieu</td>\n",
       "      <td>19/10/2024</td>\n",
       "      <td>2009</td>\n",
       "      <td>Xe da dung</td>\n",
       "      <td>90,000 Km</td>\n",
       "      <td>Lap rap trong nuoc</td>\n",
       "      <td>SUV</td>\n",
       "      <td>Xang 2.4 L</td>\n",
       "      <td>Den</td>\n",
       "      <td>...</td>\n",
       "      <td>NaN</td>\n",
       "      <td>NaN</td>\n",
       "      <td>NaN</td>\n",
       "      <td>NaN</td>\n",
       "      <td>NaN</td>\n",
       "      <td>NaN</td>\n",
       "      <td>NaN</td>\n",
       "      <td>NaN</td>\n",
       "      <td>NaN</td>\n",
       "      <td>NaN</td>\n",
       "    </tr>\n",
       "    <tr>\n",
       "      <th>2</th>\n",
       "      <td>Xe Mercedes Benz S class S450L 2020 - 2 Ty 695...</td>\n",
       "      <td>2 Ty 695 Trieu</td>\n",
       "      <td>19/10/2024</td>\n",
       "      <td>2020</td>\n",
       "      <td>Xe da dung</td>\n",
       "      <td>39,000 Km</td>\n",
       "      <td>Lap rap trong nuoc</td>\n",
       "      <td>Sedan</td>\n",
       "      <td>Xang 3.0 L</td>\n",
       "      <td>Trang</td>\n",
       "      <td>...</td>\n",
       "      <td>NaN</td>\n",
       "      <td>NaN</td>\n",
       "      <td>NaN</td>\n",
       "      <td>NaN</td>\n",
       "      <td>NaN</td>\n",
       "      <td>NaN</td>\n",
       "      <td>NaN</td>\n",
       "      <td>NaN</td>\n",
       "      <td>NaN</td>\n",
       "      <td>NaN</td>\n",
       "    </tr>\n",
       "    <tr>\n",
       "      <th>3</th>\n",
       "      <td>Xe Toyota Prado VX 2.7L 2021 - 2 Ty 390 Trieu</td>\n",
       "      <td>2 Ty 390 Trieu</td>\n",
       "      <td>20/10/2024</td>\n",
       "      <td>2021</td>\n",
       "      <td>Xe da dung</td>\n",
       "      <td>108,000 Km</td>\n",
       "      <td>Nhap khau</td>\n",
       "      <td>SUV</td>\n",
       "      <td>Xang 2.7 L</td>\n",
       "      <td>Den</td>\n",
       "      <td>...</td>\n",
       "      <td>NaN</td>\n",
       "      <td>NaN</td>\n",
       "      <td>NaN</td>\n",
       "      <td>NaN</td>\n",
       "      <td>NaN</td>\n",
       "      <td>NaN</td>\n",
       "      <td>NaN</td>\n",
       "      <td>NaN</td>\n",
       "      <td>NaN</td>\n",
       "      <td>NaN</td>\n",
       "    </tr>\n",
       "    <tr>\n",
       "      <th>4</th>\n",
       "      <td>Xe Toyota Camry 2.5Q 2021 - 999 Trieu</td>\n",
       "      <td>999 Trieu</td>\n",
       "      <td>19/10/2024</td>\n",
       "      <td>2021</td>\n",
       "      <td>Xe da dung</td>\n",
       "      <td>20,000 Km</td>\n",
       "      <td>Nhap khau</td>\n",
       "      <td>Sedan</td>\n",
       "      <td>Xang 2.5 L</td>\n",
       "      <td>Trang</td>\n",
       "      <td>...</td>\n",
       "      <td>NaN</td>\n",
       "      <td>NaN</td>\n",
       "      <td>NaN</td>\n",
       "      <td>NaN</td>\n",
       "      <td>NaN</td>\n",
       "      <td>NaN</td>\n",
       "      <td>NaN</td>\n",
       "      <td>NaN</td>\n",
       "      <td>NaN</td>\n",
       "      <td>NaN</td>\n",
       "    </tr>\n",
       "  </tbody>\n",
       "</table>\n",
       "<p>5 rows × 25 columns</p>\n",
       "</div>"
      ],
      "text/plain": [
       "                                                name           Price  \\\n",
       "0              Xe Toyota Camry 2.5Q 2021 - 999 Trieu       999 Trieu   \n",
       "1  Xe Chevrolet Captiva LTZ Maxx 2.4 AT 2009 - 17...       178 Trieu   \n",
       "2  Xe Mercedes Benz S class S450L 2020 - 2 Ty 695...  2 Ty 695 Trieu   \n",
       "3      Xe Toyota Prado VX 2.7L 2021 - 2 Ty 390 Trieu  2 Ty 390 Trieu   \n",
       "4              Xe Toyota Camry 2.5Q 2021 - 999 Trieu       999 Trieu   \n",
       "\n",
       "      SellDate  Date   Condition     Mileage              Origin BodyType  \\\n",
       "0  19/10/2024   2021  Xe da dung   20,000 Km           Nhap khau    Sedan   \n",
       "1  19/10/2024   2009  Xe da dung   90,000 Km  Lap rap trong nuoc      SUV   \n",
       "2  19/10/2024   2020  Xe da dung   39,000 Km  Lap rap trong nuoc    Sedan   \n",
       "3  20/10/2024   2021  Xe da dung  108,000 Km           Nhap khau      SUV   \n",
       "4  19/10/2024   2021  Xe da dung   20,000 Km           Nhap khau    Sedan   \n",
       "\n",
       "   EngineType  Color  ... origin body_type seating_capacity engine torque  \\\n",
       "0  Xang 2.5 L  Trang  ...    NaN       NaN              NaN    NaN    NaN   \n",
       "1  Xang 2.4 L    Den  ...    NaN       NaN              NaN    NaN    NaN   \n",
       "2  Xang 3.0 L  Trang  ...    NaN       NaN              NaN    NaN    NaN   \n",
       "3  Xang 2.7 L    Den  ...    NaN       NaN              NaN    NaN    NaN   \n",
       "4  Xang 2.5 L  Trang  ...    NaN       NaN              NaN    NaN    NaN   \n",
       "\n",
       "  transmission max_power drive fuel_type fuel_capacity  \n",
       "0          NaN       NaN   NaN       NaN           NaN  \n",
       "1          NaN       NaN   NaN       NaN           NaN  \n",
       "2          NaN       NaN   NaN       NaN           NaN  \n",
       "3          NaN       NaN   NaN       NaN           NaN  \n",
       "4          NaN       NaN   NaN       NaN           NaN  \n",
       "\n",
       "[5 rows x 25 columns]"
      ]
     },
     "execution_count": 9,
     "metadata": {},
     "output_type": "execute_result"
    }
   ],
   "source": [
    "\n",
    "combined_df.head()"
   ]
  },
  {
   "cell_type": "markdown",
   "metadata": {},
   "source": [
    "## Prep"
   ]
  },
  {
   "cell_type": "code",
   "execution_count": 13,
   "metadata": {},
   "outputs": [
    {
     "name": "stdout",
     "output_type": "stream",
     "text": [
      "<class 'pandas.core.frame.DataFrame'>\n",
      "RangeIndex: 4726 entries, 0 to 4725\n",
      "Data columns (total 25 columns):\n",
      " #   Column            Non-Null Count  Dtype \n",
      "---  ------            --------------  ----- \n",
      " 0   name              4726 non-null   object\n",
      " 1   Price             4139 non-null   object\n",
      " 2   SellDate          4139 non-null   object\n",
      " 3   Date              4139 non-null   object\n",
      " 4   Condition         4139 non-null   object\n",
      " 5   Mileage           4139 non-null   object\n",
      " 6   Origin            4139 non-null   object\n",
      " 7   BodyType          4139 non-null   object\n",
      " 8   EngineType        4139 non-null   object\n",
      " 9   Color             4139 non-null   object\n",
      " 10  ColorInside       4139 non-null   object\n",
      " 11  Seats             4139 non-null   object\n",
      " 12  Doors             4139 non-null   object\n",
      " 13  link              587 non-null    object\n",
      " 14  manufacturer      587 non-null    object\n",
      " 15  origin            587 non-null    object\n",
      " 16  body_type         587 non-null    object\n",
      " 17  seating_capacity  587 non-null    object\n",
      " 18  engine            587 non-null    object\n",
      " 19  torque            587 non-null    object\n",
      " 20  transmission      587 non-null    object\n",
      " 21  max_power         587 non-null    object\n",
      " 22  drive             587 non-null    object\n",
      " 23  fuel_type         587 non-null    object\n",
      " 24  fuel_capacity     587 non-null    object\n",
      "dtypes: object(25)\n",
      "memory usage: 923.2+ KB\n"
     ]
    }
   ],
   "source": [
    "combined_df.info()"
   ]
  },
  {
   "cell_type": "code",
   "execution_count": null,
   "metadata": {},
   "outputs": [],
   "source": []
  }
 ],
 "metadata": {
  "kernelspec": {
   "display_name": "Python 3",
   "language": "python",
   "name": "python3"
  },
  "language_info": {
   "codemirror_mode": {
    "name": "ipython",
    "version": 3
   },
   "file_extension": ".py",
   "mimetype": "text/x-python",
   "name": "python",
   "nbconvert_exporter": "python",
   "pygments_lexer": "ipython3",
   "version": "3.10.11"
  }
 },
 "nbformat": 4,
 "nbformat_minor": 2
}
