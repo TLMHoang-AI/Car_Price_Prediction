{
 "cells": [
  {
   "cell_type": "markdown",
   "metadata": {},
   "source": [
    "# import lib"
   ]
  },
  {
   "cell_type": "code",
   "execution_count": null,
   "metadata": {},
   "outputs": [],
   "source": [
    "import pandas as pd\n",
    "import pyodbc"
   ]
  },
  {
   "cell_type": "markdown",
   "metadata": {},
   "source": [
    "# load csv file and create dataframe"
   ]
  },
  {
   "cell_type": "code",
   "execution_count": null,
   "metadata": {},
   "outputs": [],
   "source": [
    "# Load CSV file\n",
    "csv_file_path = r\"D:\\Workplace\\code\\ADY_prj\\Used cars prediction\\cars_dataframe_with_details.csv\"\n",
    "df = pd.read_csv(csv_file_path)\n",
    "\n",
    "\n",
    "df_sorted = df.sort_values(by='Year')\n",
    "print(df_sorted)"
   ]
  },
  {
   "cell_type": "markdown",
   "metadata": {},
   "source": [
    "# handle missing values"
   ]
  },
  {
   "cell_type": "code",
   "execution_count": null,
   "metadata": {},
   "outputs": [],
   "source": [
    "df2 = df_sorted.fillna(value='None')"
   ]
  },
  {
   "cell_type": "markdown",
   "metadata": {},
   "source": [
    "# convert all value type to 'string'"
   ]
  },
  {
   "cell_type": "code",
   "execution_count": null,
   "metadata": {},
   "outputs": [],
   "source": [
    "df2 = df2.astype(str)"
   ]
  },
  {
   "cell_type": "markdown",
   "metadata": {},
   "source": [
    "# sql sever connection setup"
   ]
  },
  {
   "cell_type": "code",
   "execution_count": null,
   "metadata": {},
   "outputs": [],
   "source": [
    "server = 'NITRO\\\\SQLEXPRESS' \n",
    "database = 'cars_data' \n",
    "\n",
    "driver = 'ODBC Driver 17 for SQL Server'\n",
    "\n",
    "# Adjust connection string for Windows Authentication\n",
    "connection_string = f'DRIVER={{{driver}}};SERVER={server};DATABASE={database};Trusted_Connection=yes;'\n",
    "conn = pyodbc.connect(connection_string)\n",
    "cursor = conn.cursor()"
   ]
  },
  {
   "cell_type": "markdown",
   "metadata": {},
   "source": [
    "# create table in sql sever"
   ]
  },
  {
   "cell_type": "code",
   "execution_count": null,
   "metadata": {},
   "outputs": [],
   "source": [
    "# create table cars_general_inf\n",
    "create_table_query = '''\n",
    "IF NOT EXISTS (SELECT * FROM sys.objects WHERE object_id = OBJECT_ID(N'cars_general_inf') AND type in (N'U'))\n",
    "BEGIN\n",
    "    CREATE TABLE cars_general_inf (\n",
    "        car_id INT PRIMARY KEY,\n",
    "        link VARCHAR(255),\n",
    "        title VARCHAR(255),\n",
    "        manufacturer VARCHAR(255)      \n",
    "    );\n",
    "END;\n",
    "'''\n",
    "\n",
    "try:\n",
    "    cursor.execute(create_table_query)\n",
    "    conn.commit()\n",
    "    print(\"Table 'cars_general_inf' created or already exists.\")\n",
    "except Exception as e:\n",
    "    print(f\"Error creating general table: {e}\")\n",
    "\n",
    "\n",
    "cars_brand = df['manufacturer']\n",
    "\n",
    "# loop through each brand to create table ('manufacturer' in csv file)\n",
    "def create_table_for_each_brand(cursor, cars_brand):\n",
    "    for brand in cars_brand:\n",
    "        table_name = f\"[{brand.lower().replace(' ', '_').replace('-', '_')}]\"  \n",
    "        create_table = f'''\n",
    "        IF NOT EXISTS (SELECT * FROM sys.objects WHERE object_id = OBJECT_ID(N'{table_name}') AND type in (N'U'))\n",
    "        BEGIN\n",
    "            CREATE TABLE {table_name} (\n",
    "                car_id INT REFERENCES cars_general_inf(car_id),\n",
    "                title VARCHAR(255),\n",
    "                year VARCHAR(255),\n",
    "                Body_Type VARCHAR(50), \n",
    "                Origin VARCHAR(50),\n",
    "                Mileage VARCHAR(255),\n",
    "                City VARCHAR(50),\n",
    "                District VARCHAR(50),\n",
    "                Transmission VARCHAR(50),\n",
    "                Fuel_Type VARCHAR(50),\n",
    "                Price VARCHAR(255),\n",
    "                sale_date VARCHAR(50),\n",
    "                Manufacturer VARCHAR(255)\n",
    "            );\n",
    "        END;\n",
    "        '''\n",
    "        try:\n",
    "            cursor.execute(create_table)\n",
    "            conn.commit()\n",
    "            print(f\"Table '{table_name}' created or already exists.\")\n",
    "        except Exception as e:\n",
    "            print(f\"Error creating table '{table_name}': {e}\")\n",
    "\n",
    "\n",
    "create_table_for_each_brand(cursor, cars_brand)\n"
   ]
  },
  {
   "cell_type": "markdown",
   "metadata": {},
   "source": [
    "# insert data from data frame into sql sever"
   ]
  },
  {
   "cell_type": "code",
   "execution_count": null,
   "metadata": {},
   "outputs": [],
   "source": [
    "for index, row in df2.iterrows():\n",
    "    # insert data to cars_general_inf\n",
    "    insert_general_query = '''\n",
    "    INSERT INTO cars_general_inf (car_id, link, title, manufacturer)\n",
    "    VALUES (?, ?, ?, ?);\n",
    "    '''\n",
    "    try:\n",
    "        cursor.execute(insert_general_query, \n",
    "                    row['car_id'],\n",
    "                    row['Link'], \n",
    "                    row['Title'], \n",
    "                    row['manufacturer'])\n",
    "\n",
    "    except Exception as e:\n",
    "        print(f\"Error inserting into 'cars_general_inf' for row {index}: {e}\")\n",
    "\n",
    "\n",
    "    # insert data to each brand table\n",
    "    table_name = f\"[{row['manufacturer'].lower().replace(' ', '_').replace('-', '_')}]\"\n",
    "    insert_brand_query = f'''\n",
    "    INSERT INTO {table_name} (car_id, title, year, Body_Type, Origin, Mileage, City, District, Transmission, Fuel_Type, Price, sale_date, Manufacturer)\n",
    "    VALUES (?, ?, ?, ?, ?, ?, ?, ?, ?, ?, ?, ?, ?);\n",
    "    '''\n",
    "    try:\n",
    "        cursor.execute(insert_brand_query, \n",
    "                    row['car_id'],\n",
    "                    row['Title'], \n",
    "                    row['Year'], \n",
    "                    row['Body Type'], \n",
    "                    row['Origin'], \n",
    "                    row['Mileage'], \n",
    "                    row['City'], \n",
    "                    row['District'], \n",
    "                    row['Transmission'], \n",
    "                    row['Fuel Type'], \n",
    "                    row['Price'], \n",
    "                    row['Sale Date'], \n",
    "                    row['manufacturer'])\n",
    "    except Exception as e:\n",
    "        print(f\"Error at '{table_name}': {e}\")\n",
    "\n",
    "# commit\n",
    "conn.commit()"
   ]
  },
  {
   "cell_type": "markdown",
   "metadata": {},
   "source": [
    "# close connection"
   ]
  },
  {
   "cell_type": "code",
   "execution_count": null,
   "metadata": {},
   "outputs": [],
   "source": [
    "# Close connection\n",
    "cursor.close()\n",
    "conn.close()\n",
    "\n",
    "print(\"Data successfully inserted into SQL Server.\")"
   ]
  }
 ],
 "metadata": {
  "language_info": {
   "name": "python"
  }
 },
 "nbformat": 4,
 "nbformat_minor": 2
}
