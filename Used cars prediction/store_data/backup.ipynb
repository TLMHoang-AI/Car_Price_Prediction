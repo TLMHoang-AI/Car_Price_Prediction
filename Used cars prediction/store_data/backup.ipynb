{
 "cells": [
  {
   "cell_type": "markdown",
   "metadata": {},
   "source": [
    "# import lib"
   ]
  },
  {
   "cell_type": "code",
   "execution_count": null,
   "metadata": {},
   "outputs": [],
   "source": [
    "import pandas as pd\n",
    "import pyodbc"
   ]
  },
  {
   "cell_type": "markdown",
   "metadata": {},
   "source": [
    "# load csv file and create dataframe"
   ]
  },
  {
   "cell_type": "code",
   "execution_count": null,
   "metadata": {},
   "outputs": [],
   "source": [
    "\n",
    "csv_file_path1 = r\"D:\\Workplace\\code\\ADY_prj\\Used cars prediction\\dataset\\bonbanh_used_cars_details.csv\"\n",
    "csv_file_path2 = r\"D:\\Workplace\\code\\ADY_prj\\Used cars prediction\\dataset\\new_cars_full_data.csv\"\n",
    "csv_file_path3 = r\"D:\\Workplace\\code\\ADY_prj\\Used cars prediction\\dataset\\Used_car_data_promax.csv\"\n",
    "\n",
    "df1 = pd.read_csv(csv_file_path1)\n",
    "df2 = pd.read_csv(csv_file_path2)\n",
    "df3 = pd.read_csv(csv_file_path3)"
   ]
  },
  {
   "cell_type": "code",
   "execution_count": null,
   "metadata": {},
   "outputs": [],
   "source": [
    "df1_renamed = df1.rename(columns={\n",
    "    'Body Type': 'BodyType',\n",
    "    'Engine Type': 'EngineType',\n",
    "    'Color inside': 'ColorInside'\n",
    "})\n",
    "\n",
    "df3_renamed = df3.rename(columns={\n",
    "    'Body Type': 'Body_Type',\n",
    "    'Fuel Type': 'Fuel_Type',\n",
    "    'Sale Date': 'sale_date'\n",
    "})"
   ]
  },
  {
   "cell_type": "markdown",
   "metadata": {},
   "source": [
    "# handle missing values"
   ]
  },
  {
   "cell_type": "code",
   "execution_count": null,
   "metadata": {},
   "outputs": [],
   "source": [
    "\n",
    "dfh1 = df1_renamed.fillna(value='None')\n",
    "dfh2 = df2.fillna(value='None')\n",
    "dfh3 = df3_renamed.fillna(value='None')"
   ]
  },
  {
   "cell_type": "markdown",
   "metadata": {},
   "source": [
    "# convert all value type to 'string'"
   ]
  },
  {
   "cell_type": "code",
   "execution_count": null,
   "metadata": {},
   "outputs": [],
   "source": [
    "\n",
    "dfh1 = dfh1.astype(str)\n",
    "dfh2 = dfh2.astype(str)\n",
    "dfh3 = dfh3.astype(str)\n"
   ]
  },
  {
   "cell_type": "markdown",
   "metadata": {},
   "source": [
    "# sql sever connection setup"
   ]
  },
  {
   "cell_type": "code",
   "execution_count": null,
   "metadata": {},
   "outputs": [],
   "source": [
    "server = 'NITRO\\\\SQLEXPRESS' \n",
    "database = 'cars_data' \n",
    "\n",
    "driver = 'ODBC Driver 17 for SQL Server'\n",
    "\n",
    "# Adjust connection string for Windows Authentication\n",
    "connection_string = f'DRIVER={{{driver}}};SERVER={server};DATABASE={database};Trusted_Connection=yes;'\n",
    "conn = pyodbc.connect(connection_string)\n",
    "cursor = conn.cursor()"
   ]
  },
  {
   "cell_type": "markdown",
   "metadata": {},
   "source": [
    "# create table in sql sever"
   ]
  },
  {
   "cell_type": "code",
   "execution_count": null,
   "metadata": {},
   "outputs": [],
   "source": [
    "# create table bonbanh\n",
    "create_table_query = '''\n",
    "IF NOT EXISTS (SELECT * FROM sys.objects WHERE object_id = OBJECT_ID(N'bonbanh_inf') AND type in (N'U'))\n",
    "BEGIN\n",
    "    CREATE TABLE bonbanh_inf (\n",
    "        name VARCHAR(255),\n",
    "        Price VARCHAR(255),\n",
    "        SellDate VARCHAR(255),\n",
    "        Date VARCHAR(255),\n",
    "        Condition VARCHAR(255),\n",
    "        Mileage VARCHAR(255),\n",
    "        Origin VARCHAR(255),\n",
    "        BodyType VARCHAR(255),\n",
    "        EngineType VARCHAR(255),\n",
    "        Color VARCHAR(255),\n",
    "        ColorInside VARCHAR(255),\n",
    "        Seats VARCHAR(255),\n",
    "        Doors VARCHAR(255)\n",
    "    );\n",
    "END;\n",
    "'''\n",
    "\n",
    "try:\n",
    "    cursor.execute(create_table_query)\n",
    "    conn.commit()\n",
    "    print(\"Table 'bonbanh_inf' created or already exists.\")\n",
    "except Exception as e:\n",
    "    print(f\"Error creating general table: {e}\")\n",
    "\n",
    "\n",
    "# create table newcar\n",
    "create_table_query = '''\n",
    "IF NOT EXISTS (SELECT * FROM sys.objects WHERE object_id = OBJECT_ID(N'newcar_inf') AND type in (N'U'))\n",
    "BEGIN\n",
    "    CREATE TABLE newcar_inf (\n",
    "        name VARCHAR(255),\n",
    "        link VARCHAR(255),\n",
    "        manufacturer VARCHAR(255),\n",
    "        origin VARCHAR(255),\n",
    "        body_type VARCHAR(255),\n",
    "        seating_capacity VARCHAR(255),\n",
    "        engine VARCHAR(255),\n",
    "        torque VARCHAR(255),\n",
    "        transmission VARCHAR(255),\n",
    "        max_power VARCHAR(255),\n",
    "        drive VARCHAR(255),\n",
    "        fuel_type VARCHAR(255),\n",
    "        fuel_capacity VARCHAR(255)\n",
    "    );\n",
    "END;\n",
    "'''\n",
    "\n",
    "try:\n",
    "    cursor.execute(create_table_query)\n",
    "    conn.commit()\n",
    "    print(\"Table 'newcar_inf' created or already exists.\")\n",
    "except Exception as e:\n",
    "    print(f\"Error creating general table: {e}\")\n",
    "\n",
    "\n",
    "\n",
    "# Correct table creation for 'usedCar'\n",
    "create_table = '''\n",
    "    IF NOT EXISTS (SELECT * FROM sys.objects WHERE object_id = OBJECT_ID(N'usedCar') AND type in (N'U'))\n",
    "    BEGIN\n",
    "        CREATE TABLE usedCar (\n",
    "            car_id INT,\n",
    "            title VARCHAR(255),\n",
    "            year VARCHAR(255),\n",
    "            Body_Type VARCHAR(50), \n",
    "            Origin VARCHAR(50),\n",
    "            Mileage VARCHAR(255),\n",
    "            City VARCHAR(50),\n",
    "            District VARCHAR(50),\n",
    "            Transmission VARCHAR(50),\n",
    "            Fuel_Type VARCHAR(50),\n",
    "            Price VARCHAR(255),\n",
    "            sale_date VARCHAR(50),\n",
    "            Manufacturer VARCHAR(255)\n",
    "        );\n",
    "    END;\n",
    "'''\n",
    "\n",
    "try:\n",
    "    cursor.execute(create_table)\n",
    "    conn.commit()\n",
    "    print(\"Table 'usedCar' created or already exists.\")\n",
    "except Exception as e:\n",
    "    print(f\"Error creating 'usedCar' table: {e}\")"
   ]
  },
  {
   "cell_type": "markdown",
   "metadata": {},
   "source": [
    "# insert data from data frame into sql sever"
   ]
  },
  {
   "cell_type": "code",
   "execution_count": null,
   "metadata": {},
   "outputs": [],
   "source": [
    "# Insert data into 'bonbanh_inf'\n",
    "for index, row in dfh1.iterrows():\n",
    "    insert_bonbanh_query = '''\n",
    "    INSERT INTO bonbanh_inf (name, Price, SellDate, Date, Condition, Mileage, Origin, BodyType, EngineType, Color, ColorInside, Seats, Doors)\n",
    "    VALUES (?, ?, ?, ?, ?, ?, ?, ?, ?, ?, ?, ?, ?);\n",
    "    '''\n",
    "    try:\n",
    "        cursor.execute(insert_bonbanh_query, \n",
    "                       row['Name'], \n",
    "                       row['Price'], \n",
    "                       row['SellDate'], \n",
    "                       row['Date'], \n",
    "                       row['Condition'], \n",
    "                       row['Mileage'], \n",
    "                       row['Origin'], \n",
    "                       row['BodyType'], \n",
    "                       row['EngineType'], \n",
    "                       row['Color'], \n",
    "                       row['ColorInside'], \n",
    "                       row['Seats'], \n",
    "                       row['Doors'])\n",
    "        conn.commit()\n",
    "    except Exception as e:\n",
    "        print(f\"Error inserting into 'bonbanh_inf' for row {index}: {e}\")\n",
    "\n",
    "# Insert data into 'newcar_inf'\n",
    "for index, row in dfh2.iterrows():\n",
    "    insert_newcar_query = '''\n",
    "    INSERT INTO newcar_inf (name, link, manufacturer, origin, body_type, seating_capacity, engine, torque, transmission, max_power, drive, fuel_type, fuel_capacity)\n",
    "    VALUES (?, ?, ?, ?, ?, ?, ?, ?, ?, ?, ?, ?, ?);\n",
    "    '''\n",
    "    try:\n",
    "        cursor.execute(insert_newcar_query, \n",
    "                       row['name'], \n",
    "                       row['link'], \n",
    "                       row['manufacturer'], \n",
    "                       row['origin'], \n",
    "                       row['body_type'], \n",
    "                       row['seating_capacity'], \n",
    "                       row['engine'], \n",
    "                       row['torque'], \n",
    "                       row['transmission'], \n",
    "                       row['max_power'], \n",
    "                       row['drive'], \n",
    "                       row['fuel_type'], \n",
    "                       row['fuel_capacity'])\n",
    "        conn.commit()\n",
    "    except Exception as e:\n",
    "        print(f\"Error inserting into 'newcar_inf' for row {index}: {e}\")\n",
    "\n",
    "# Insert data into 'usedCar'\n",
    "for index, row in dfh3.iterrows():\n",
    "    insert_usedcar_query = '''\n",
    "    INSERT INTO usedCar (car_id, title, year, Body_Type, Origin, Mileage, City, District, Transmission, Fuel_Type, Price, sale_date, Manufacturer)\n",
    "    VALUES (?, ?, ?, ?, ?, ?, ?, ?, ?, ?, ?, ?, ?);\n",
    "    '''\n",
    "    try:\n",
    "        cursor.execute(insert_usedcar_query, \n",
    "                       row['car_id'], \n",
    "                       row['Title'], \n",
    "                       row['Year'], \n",
    "                       row['Body_Type'], \n",
    "                       row['Origin'], \n",
    "                       row['Mileage'], \n",
    "                       row['City'], \n",
    "                       row['District'], \n",
    "                       row['Transmission'], \n",
    "                       row['Fuel_Type'], \n",
    "                       row['Price'], \n",
    "                       row['sale_date'], \n",
    "                       row['manufacturer'])\n",
    "        conn.commit()\n",
    "    except Exception as e:\n",
    "        print(f\"Error inserting into 'usedCar' for row {index}: {e}\")"
   ]
  },
  {
   "cell_type": "markdown",
   "metadata": {},
   "source": [
    "# close connection"
   ]
  },
  {
   "cell_type": "code",
   "execution_count": null,
   "metadata": {},
   "outputs": [],
   "source": [
    "# Close connection\n",
    "cursor.close()\n",
    "conn.close()\n",
    "\n",
    "print(\"Data successfully inserted into SQL Server.\")"
   ]
  }
 ],
 "metadata": {
  "language_info": {
   "name": "python"
  }
 },
 "nbformat": 4,
 "nbformat_minor": 2
}
