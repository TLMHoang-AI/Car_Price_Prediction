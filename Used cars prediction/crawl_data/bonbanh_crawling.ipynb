{
 "cells": [
  {
   "cell_type": "code",
   "execution_count": 51,
   "metadata": {},
   "outputs": [],
   "source": [
    "from selenium import webdriver\n",
    "from selenium.webdriver.edge.service import Service\n",
    "from selenium.webdriver.edge.options import Options\n",
    "from selenium.webdriver.common.by import By\n",
    "import time\n",
    "import random\n",
    "import pandas as pd\n",
    "import numpy as np\n",
    "from selenium.common.exceptions import NoSuchElementException, ElementClickInterceptedException"
   ]
  },
  {
   "cell_type": "code",
   "execution_count": 52,
   "metadata": {},
   "outputs": [],
   "source": [
    "edge_driver_path = \"C:/Users/Admin/Downloads/edgedriver_win64/msedgedriver.exe\"\n",
    "\n",
    "options = Options()\n",
    "\n",
    "service = Service(executable_path=edge_driver_path)\n",
    "\n",
    "driver = webdriver.Edge(service=service, options=options)\n"
   ]
  },
  {
   "cell_type": "code",
   "execution_count": 53,
   "metadata": {},
   "outputs": [],
   "source": [
    "driver.get(\"https://bonbanh.com/oto\")\n",
    "\n",
    "car_links = []\n",
    "\n",
    "while True:\n",
    "    time.sleep(2)\n",
    "    car_items = driver.find_elements(By.CSS_SELECTOR, \"li.car-item a\")\n",
    "\n",
    "    for item in car_items:\n",
    "        href = item.get_attribute(\"href\")\n",
    "        if href:\n",
    "            car_links.append(href)\n",
    "    try:\n",
    "        next_button = driver.find_element(By.XPATH, '//span[@class=\"bbl\" and contains(text(), \">\")]')\n",
    "        next_button.click()\n",
    "    except NoSuchElementException:\n",
    "        print(\"No more pages.\")\n",
    "        break\n",
    "driver.quit()\n",
    "\n",
    "df = pd.DataFrame(car_links, columns=['Link'])"
   ]
  },
  {
   "cell_type": "code",
   "execution_count": 54,
   "metadata": {},
   "outputs": [
    {
     "name": "stdout",
     "output_type": "stream",
     "text": [
      "<class 'pandas.core.frame.DataFrame'>\n",
      "RangeIndex: 0 entries\n",
      "Data columns (total 1 columns):\n",
      " #   Column  Non-Null Count  Dtype \n",
      "---  ------  --------------  ----- \n",
      " 0   Link    0 non-null      object\n",
      "dtypes: object(1)\n",
      "memory usage: 132.0+ bytes\n"
     ]
    }
   ],
   "source": [
    "df.info()"
   ]
  },
  {
   "cell_type": "code",
   "execution_count": null,
   "metadata": {},
   "outputs": [],
   "source": [
    "df.to_csv('bonbanh_used_cars_links.csv')"
   ]
  }
 ],
 "metadata": {
  "kernelspec": {
   "display_name": "Python 3",
   "language": "python",
   "name": "python3"
  },
  "language_info": {
   "codemirror_mode": {
    "name": "ipython",
    "version": 3
   },
   "file_extension": ".py",
   "mimetype": "text/x-python",
   "name": "python",
   "nbconvert_exporter": "python",
   "pygments_lexer": "ipython3",
   "version": "3.11.9"
  }
 },
 "nbformat": 4,
 "nbformat_minor": 2
}
