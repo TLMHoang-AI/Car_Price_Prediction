{
 "cells": [
  {
   "cell_type": "markdown",
   "metadata": {},
   "source": [
    "# Import libraries"
   ]
  },
  {
   "cell_type": "code",
   "execution_count": 1,
   "metadata": {},
   "outputs": [],
   "source": [
    "from selenium import webdriver\n",
    "from selenium.webdriver.edge.service import Service\n",
    "from selenium.webdriver.edge.options import Options\n",
    "from selenium.webdriver.common.by import By\n",
    "import time\n",
    "import random\n",
    "import pandas as pd\n",
    "import numpy as np\n",
    "from selenium.common.exceptions import NoSuchElementException, ElementClickInterceptedException\n",
    "from selenium.webdriver.support.ui import WebDriverWait\n",
    "from selenium.webdriver.support import expected_conditions as EC\n",
    "from fuzzywuzzy import fuzz\n",
    "from unidecode import unidecode"
   ]
  },
  {
   "cell_type": "markdown",
   "metadata": {},
   "source": [
    "# View info of the data"
   ]
  },
  {
   "cell_type": "code",
   "execution_count": 2,
   "metadata": {},
   "outputs": [
    {
     "name": "stdout",
     "output_type": "stream",
     "text": [
      "<class 'pandas.core.frame.DataFrame'>\n",
      "RangeIndex: 587 entries, 0 to 586\n",
      "Data columns (total 2 columns):\n",
      " #   Column  Non-Null Count  Dtype \n",
      "---  ------  --------------  ----- \n",
      " 0   name    587 non-null    object\n",
      " 1   link    587 non-null    object\n",
      "dtypes: object(2)\n",
      "memory usage: 9.3+ KB\n"
     ]
    }
   ],
   "source": [
    "vehicle_data = pd.read_csv('new_cars_data.csv')\n",
    "vehicle_data.info()"
   ]
  },
  {
   "cell_type": "markdown",
   "metadata": {},
   "source": [
    "# Crawling"
   ]
  },
  {
   "cell_type": "code",
   "execution_count": 3,
   "metadata": {},
   "outputs": [],
   "source": [
    "edge_driver_path = \"C:/Users/Admin/Downloads/edgedriver_win64/msedgedriver.exe\"\n",
    "\n",
    "options = Options()\n",
    "\n",
    "service = Service(executable_path=edge_driver_path)\n",
    "\n",
    "driver = webdriver.Edge(service=service, options=options)\n"
   ]
  },
  {
   "cell_type": "code",
   "execution_count": 4,
   "metadata": {},
   "outputs": [
    {
     "name": "stdout",
     "output_type": "stream",
     "text": [
      "                            name  \\\n",
      "0                 Kia Morning MT   \n",
      "1              Suzuki Celerio MT   \n",
      "2                 Kia Morning AT   \n",
      "3           Toyota Wigo 1.2 G MT   \n",
      "4             Suzuki Celerio CVT   \n",
      "..                           ...   \n",
      "582     Mercedes-AMG G65 6.0 V12   \n",
      "583  Aston Martin Vanquish S V12   \n",
      "584        Rolls-Royce Ghost V12   \n",
      "585     Rolls-Royce Cullinan V12   \n",
      "586         Rolls-Royce Dawn V12   \n",
      "\n",
      "                                                  link  manufacturer  \\\n",
      "0              https://xebiz.vn/gia-xe/kia-morning-mt/           Kia   \n",
      "1           https://xebiz.vn/gia-xe/suzuki-celerio-mt/        Suzuki   \n",
      "2              https://xebiz.vn/gia-xe/kia-morning-at/           Kia   \n",
      "3        https://xebiz.vn/gia-xe/toyota-wigo-1-2-g-mt/        Toyota   \n",
      "4          https://xebiz.vn/gia-xe/suzuki-celerio-cvt/        Suzuki   \n",
      "..                                                 ...           ...   \n",
      "582  https://xebiz.vn/gia-xe/mercedes-amg-g65-6-0-v12/      Mercedes   \n",
      "583  https://xebiz.vn/gia-xe/aston-martin-vanquish-...  Aston Martin   \n",
      "584     https://xebiz.vn/gia-xe/rolls-royce-ghost-v12/   Rolls Royce   \n",
      "585  https://xebiz.vn/gia-xe/rolls-royce-cullinan-v12/   Rolls Royce   \n",
      "586      https://xebiz.vn/gia-xe/rolls-royce-dawn-v12/   Rolls Royce   \n",
      "\n",
      "        origin    body_type seating_capacity   engine torque transmission  \\\n",
      "0      Lắp ráp    Hatchback            5 chỗ  1248 cc   None       Số sàn   \n",
      "1    Nhập khẩu    Hatchback            5 chỗ   998 cc   None       Số sàn   \n",
      "2      Lắp ráp    Hatchback            5 chỗ  1248 cc   None      Tự động   \n",
      "3    Nhập khẩu    Hatchback            5 chỗ  1197 cc   None       Số sàn   \n",
      "4    Nhập khẩu    Hatchback            5 chỗ   998 cc   None   Vô cấp CVT   \n",
      "..         ...          ...              ...      ...    ...          ...   \n",
      "582  Nhập khẩu          SUV            5 chỗ  5980 cc   None      Tự động   \n",
      "583  Nhập khẩu        Coupe            2 chỗ  5935 cc   None      Tự động   \n",
      "584  Nhập khẩu        Sedan            5 chỗ  6592 cc   None      Tự động   \n",
      "585  Nhập khẩu          SUV            4 chỗ  6755 cc   None      Tự động   \n",
      "586  Nhập khẩu  Convertible            4 chỗ  6592 cc   None      Tự động   \n",
      "\n",
      "              max_power drive fuel_type fuel_capacity  \n",
      "0    64.1 kW @ 6000 rpm   FWD      Xăng        35 Lít  \n",
      "1    50.6 kW @ 6000 rpm   2WD      Xăng        35 Lít  \n",
      "2    64.1 kW @ 6000 rpm   FWD      Xăng        35 Lít  \n",
      "3     64 kW @ 86600 rpm   FWD      Xăng        33 Lít  \n",
      "4    50.6 kW @ 6000 rpm   2WD      Xăng        35 Lít  \n",
      "..                  ...   ...       ...           ...  \n",
      "582   463 kW @ 5000 rpm   4WD      Xăng        96 Lít  \n",
      "583   433 kW @ 7000 rpm   RWD      Xăng        77 Lít  \n",
      "584   420 kW @ 5250 rpm   RWD      Xăng        82 Lít  \n",
      "585                       AWD      Xăng         0 Lít  \n",
      "586   442 kW @ 5250 rpm   RWD      Xăng         0 Lít  \n",
      "\n",
      "[587 rows x 13 columns]\n"
     ]
    }
   ],
   "source": [
    "detailed_vehicle_data = []\n",
    "\n",
    "for index, vehicle in vehicle_data.iterrows():\n",
    "    link = vehicle['link']\n",
    "    \n",
    "    driver.get(link)\n",
    "    WebDriverWait(driver, 10).until(EC.presence_of_element_located((By.CSS_SELECTOR, \".wpcm-content-block\")))\n",
    "\n",
    "    try:\n",
    "        try:\n",
    "            manufacturer = driver.find_element(By.XPATH, \"//th[text()='Hãng xe']/following-sibling::td/span\").text\n",
    "        except:\n",
    "            manufacturer = None\n",
    "\n",
    "        try:\n",
    "            origin = driver.find_element(By.XPATH, \"//th[text()='Xuất xứ']/following-sibling::td/span\").text\n",
    "        except:\n",
    "            origin = None\n",
    "\n",
    "        try:\n",
    "            body_type = driver.find_element(By.XPATH, \"//th[text()='Kiểu dáng']/following-sibling::td/span\").text\n",
    "        except:\n",
    "            body_type = None\n",
    "\n",
    "        try:\n",
    "            seating_capacity = driver.find_element(By.XPATH, \"//th[text()='Số chỗ']/following-sibling::td/span\").text\n",
    "        except:\n",
    "            seating_capacity = None\n",
    "\n",
    "        try:\n",
    "            engine = driver.find_element(By.XPATH, \"//th[text()='Động cơ']/following-sibling::td/span\").text\n",
    "        except:\n",
    "            engine = None\n",
    "\n",
    "        try:\n",
    "            torque = driver.find_element(By.XPATH, \"//th[text()='Mô-men xoắn']/following-sibling::td/span\").text\n",
    "        except:\n",
    "            torque = None\n",
    "\n",
    "        try:\n",
    "            transmission = driver.find_element(By.XPATH, \"//th[text()='Hộp số']/following-sibling::td/span\").text\n",
    "        except:\n",
    "            transmission = None\n",
    "\n",
    "        try:\n",
    "            max_power = driver.find_element(By.XPATH, \"//th[text()='Công suất tối đa']/following-sibling::td/span\").text\n",
    "        except:\n",
    "            max_power = None\n",
    "\n",
    "        try:\n",
    "            drive = driver.find_element(By.XPATH, \"//th[text()='Dẫn động']/following-sibling::td/span\").text\n",
    "        except:\n",
    "            drive = None\n",
    "\n",
    "        try:\n",
    "            fuel_type = driver.find_element(By.XPATH, \"//th[text()='Nhiên liệu']/following-sibling::td/span\").text\n",
    "        except:\n",
    "            fuel_type = None\n",
    "     \n",
    "        try:\n",
    "            fuel_capacity = driver.find_element(By.XPATH, \"//th[text()='Dung tích bình']/following-sibling::td/span\").text\n",
    "        except:\n",
    "            fuel_capacity = None\n",
    "        detailed_vehicle_data.append({\n",
    "            'name': vehicle['name'],\n",
    "            'link': link,\n",
    "            'manufacturer': manufacturer,\n",
    "            'origin': origin,\n",
    "            'body_type': body_type,\n",
    "            'seating_capacity': seating_capacity,\n",
    "            'engine': engine,\n",
    "            'torque': torque,\n",
    "            'transmission': transmission,\n",
    "            'max_power': max_power,\n",
    "            'drive': drive,\n",
    "            'fuel_type': fuel_type,\n",
    "            'fuel_capacity': fuel_capacity\n",
    "        })\n",
    "\n",
    "    except Exception as e:\n",
    "        print(f\"Error while extracting data from {link}: {e}\")\n",
    "\n",
    "new_cars_full_data = pd.DataFrame(detailed_vehicle_data)\n",
    "\n",
    "print(new_cars_full_data)\n",
    "\n",
    "driver.quit()"
   ]
  },
  {
   "cell_type": "markdown",
   "metadata": {},
   "source": [
    "# Save data"
   ]
  },
  {
   "cell_type": "code",
   "execution_count": 5,
   "metadata": {},
   "outputs": [
    {
     "name": "stderr",
     "output_type": "stream",
     "text": [
      "C:\\Users\\Admin\\AppData\\Local\\Temp\\ipykernel_22476\\611645655.py:5: FutureWarning: DataFrame.applymap has been deprecated. Use DataFrame.map instead.\n",
      "  new_cars_full_data_no_diacritics = new_cars_full_data.applymap(lambda x: unidecode(x) if isinstance(x, str) else x)\n"
     ]
    }
   ],
   "source": [
    "new_cars_full_data.columns = [unidecode(col) for col in new_cars_full_data.columns]\n",
    "\n",
    "new_cars_full_data_no_diacritics = new_cars_full_data.applymap(lambda x: unidecode(x) if isinstance(x, str) else x)\n",
    "new_cars_full_data_no_diacritics.head()\n",
    "new_cars_full_data_no_diacritics.to_csv('new_cars_full_data.csv', index=False, encoding='utf-8')"
   ]
  }
 ],
 "metadata": {
  "kernelspec": {
   "display_name": "Python 3",
   "language": "python",
   "name": "python3"
  },
  "language_info": {
   "codemirror_mode": {
    "name": "ipython",
    "version": 3
   },
   "file_extension": ".py",
   "mimetype": "text/x-python",
   "name": "python",
   "nbconvert_exporter": "python",
   "pygments_lexer": "ipython3",
   "version": "3.11.9"
  }
 },
 "nbformat": 4,
 "nbformat_minor": 2
}
