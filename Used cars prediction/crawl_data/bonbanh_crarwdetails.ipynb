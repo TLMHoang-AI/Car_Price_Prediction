{
 "cells": [
  {
   "cell_type": "code",
   "execution_count": 27,
   "metadata": {},
   "outputs": [],
   "source": [
    "from selenium import webdriver\n",
    "from selenium.webdriver.edge.service import Service\n",
    "from selenium.webdriver.edge.options import Options\n",
    "from selenium.webdriver.common.by import By\n",
    "import time\n",
    "import random\n",
    "import pandas as pd\n",
    "import numpy as np\n",
    "from selenium.common.exceptions import NoSuchElementException, ElementClickInterceptedException\n",
    "from selenium.webdriver.support.ui import WebDriverWait\n",
    "from selenium.webdriver.support import expected_conditions as EC\n",
    "from unidecode import unidecode"
   ]
  },
  {
   "cell_type": "code",
   "execution_count": 28,
   "metadata": {},
   "outputs": [],
   "source": [
    "edge_driver_path = \"C:/Users/Admin/Downloads/edgedriver_win64/msedgedriver.exe\"\n",
    "\n",
    "proxies = [\n",
    "    \"174.138.54.65:80\",\n",
    "    \"68.178.168.41:80\",\n",
    "    \"20.111.54.16:8123\",\n",
    "    \"143.42.191.48:80\",\n",
    "    \"156.228.97.202:3128\",\n",
    "    \"104.207.38.3:3128\",\n",
    "    \"104.207.47.101:3128\",\n",
    "    \"104.207.61.18:3128\",\n",
    "    \"104.207.48.14:3128\",\n",
    "    \"159.203.61.169:3128\",\n",
    "    \"104.207.59.196:3128\",\n",
    "    \"45.43.83.95:6378\",\n",
    "    \"43.159.28.112:9278\"\n",
    "]\n"
   ]
  },
  {
   "cell_type": "code",
   "execution_count": 29,
   "metadata": {},
   "outputs": [
    {
     "name": "stdout",
     "output_type": "stream",
     "text": [
      "<class 'pandas.core.frame.DataFrame'>\n",
      "RangeIndex: 36534 entries, 0 to 36533\n",
      "Data columns (total 1 columns):\n",
      " #   Column  Non-Null Count  Dtype \n",
      "---  ------  --------------  ----- \n",
      " 0   Link    36534 non-null  object\n",
      "dtypes: object(1)\n",
      "memory usage: 285.6+ KB\n"
     ]
    }
   ],
   "source": [
    "vehicle_data = pd.read_csv('bonbanh_used_cars_links.csv')\n",
    "vehicle_data.info()"
   ]
  },
  {
   "cell_type": "code",
   "execution_count": 30,
   "metadata": {},
   "outputs": [
    {
     "name": "stdout",
     "output_type": "stream",
     "text": [
      "Đã xảy ra lỗi khi lấy dữ liệu từ link https://bonbanh.com/xe-mercedes_benz-s_class-s450-4matic-luxury-2022-5752296: Message: no such element: Unable to locate element: {\"method\":\"css selector\",\"selector\":\".title h1\"}\n",
      "  (Session info: MicrosoftEdge=129.0.2792.89); For documentation on this error, please visit: https://www.selenium.dev/documentation/webdriver/troubleshooting/errors#no-such-element-exception\n",
      "Stacktrace:\n",
      "\tGetHandleVerifier [0x00007FF754AF3A22+10594]\n",
      "\tMicrosoft::Applications::Events::ILogConfiguration::operator* [0x00007FF754A90449+323337]\n",
      "\t(No symbol) [0x00007FF7548AF16E]\n",
      "\t(No symbol) [0x00007FF7548F656E]\n",
      "\t(No symbol) [0x00007FF7548F65F5]\n",
      "\t(No symbol) [0x00007FF754934157]\n",
      "\t(No symbol) [0x00007FF754917BBF]\n",
      "\t(No symbol) [0x00007FF7548EBEDD]\n",
      "\t(No symbol) [0x00007FF754931B07]\n",
      "\t(No symbol) [0x00007FF7549177E3]\n",
      "\t(No symbol) [0x00007FF7548EB3EC]\n",
      "\t(No symbol) [0x00007FF7548EA8CD]\n",
      "\t(No symbol) [0x00007FF7548EAFB1]\n",
      "\tMicrosoft::Applications::Events::EventProperty::empty [0x00007FF754C7E4C4+918756]\n",
      "\tMicrosoft::Applications::Events::EventProperty::~EventProperty [0x00007FF754A1C9BF+54575]\n",
      "\tMicrosoft::Applications::Events::EventProperty::~EventProperty [0x00007FF754A0F557+199]\n",
      "\tMicrosoft::Applications::Events::EventProperty::empty [0x00007FF754C7D24D+914029]\n",
      "\tMicrosoft::Applications::Events::ILogConfiguration::operator* [0x00007FF754A97ED1+354705]\n",
      "\tMicrosoft::Applications::Events::ILogConfiguration::operator* [0x00007FF754A94384+339524]\n",
      "\tMicrosoft::Applications::Events::ILogConfiguration::operator* [0x00007FF754A944B9+339833]\n",
      "\tMicrosoft::Applications::Events::ILogConfiguration::operator* [0x00007FF754A8AD7C+301116]\n",
      "\tBaseThreadInitThunk [0x00007FFE09FD257D+29]\n",
      "\tRtlUserThreadStart [0x00007FFE0AB8AF08+40]\n",
      "\n"
     ]
    },
    {
     "ename": "TimeoutException",
     "evalue": "Message: timeout: Timed out receiving message from renderer: 299.840\n  (Session info: MicrosoftEdge=129.0.2792.89)\nStacktrace:\n\tGetHandleVerifier [0x00007FF754AF3A22+10594]\n\tMicrosoft::Applications::Events::ILogConfiguration::operator* [0x00007FF754A90449+323337]\n\t(No symbol) [0x00007FF7548AF16E]\n\t(No symbol) [0x00007FF75489ACA3]\n\t(No symbol) [0x00007FF75489AA2E]\n\t(No symbol) [0x00007FF754898C84]\n\t(No symbol) [0x00007FF7548992BF]\n\t(No symbol) [0x00007FF7548A5791]\n\t(No symbol) [0x00007FF7548BB7C7]\n\t(No symbol) [0x00007FF7548C092A]\n\t(No symbol) [0x00007FF754899C0A]\n\t(No symbol) [0x00007FF754899986]\n\t(No symbol) [0x00007FF7548BB576]\n\t(No symbol) [0x00007FF754931CFD]\n\t(No symbol) [0x00007FF7549177E3]\n\t(No symbol) [0x00007FF7548EB3EC]\n\t(No symbol) [0x00007FF7548EA8CD]\n\t(No symbol) [0x00007FF7548EAFB1]\n\tMicrosoft::Applications::Events::EventProperty::empty [0x00007FF754C7E4C4+918756]\n\tMicrosoft::Applications::Events::EventProperty::~EventProperty [0x00007FF754A1C9BF+54575]\n\tMicrosoft::Applications::Events::EventProperty::~EventProperty [0x00007FF754A0F557+199]\n\tMicrosoft::Applications::Events::EventProperty::empty [0x00007FF754C7D24D+914029]\n\tMicrosoft::Applications::Events::ILogConfiguration::operator* [0x00007FF754A97ED1+354705]\n\tMicrosoft::Applications::Events::ILogConfiguration::operator* [0x00007FF754A94384+339524]\n\tMicrosoft::Applications::Events::ILogConfiguration::operator* [0x00007FF754A944B9+339833]\n\tMicrosoft::Applications::Events::ILogConfiguration::operator* [0x00007FF754A8AD7C+301116]\n\tBaseThreadInitThunk [0x00007FFE09FD257D+29]\n\tRtlUserThreadStart [0x00007FFE0AB8AF08+40]\n",
     "output_type": "error",
     "traceback": [
      "\u001b[1;31m---------------------------------------------------------------------------\u001b[0m",
      "\u001b[1;31mTimeoutException\u001b[0m                          Traceback (most recent call last)",
      "Cell \u001b[1;32mIn[30], line 9\u001b[0m\n\u001b[0;32m      5\u001b[0m data \u001b[38;5;241m=\u001b[39m []\n\u001b[0;32m      8\u001b[0m \u001b[38;5;28;01mfor\u001b[39;00m link \u001b[38;5;129;01min\u001b[39;00m vehicle_data[\u001b[38;5;124m'\u001b[39m\u001b[38;5;124mLink\u001b[39m\u001b[38;5;124m'\u001b[39m]:\n\u001b[1;32m----> 9\u001b[0m     \u001b[43mdriver\u001b[49m\u001b[38;5;241;43m.\u001b[39;49m\u001b[43mget\u001b[49m\u001b[43m(\u001b[49m\u001b[43mlink\u001b[49m\u001b[43m)\u001b[49m\n\u001b[0;32m     10\u001b[0m     time\u001b[38;5;241m.\u001b[39msleep(random\u001b[38;5;241m.\u001b[39muniform(\u001b[38;5;241m1\u001b[39m, \u001b[38;5;241m5\u001b[39m))\n\u001b[0;32m     12\u001b[0m     \u001b[38;5;28;01mtry\u001b[39;00m:\n",
      "File \u001b[1;32m~\\AppData\\Local\\Packages\\PythonSoftwareFoundation.Python.3.11_qbz5n2kfra8p0\\LocalCache\\local-packages\\Python311\\site-packages\\selenium\\webdriver\\remote\\webdriver.py:363\u001b[0m, in \u001b[0;36mWebDriver.get\u001b[1;34m(self, url)\u001b[0m\n\u001b[0;32m    361\u001b[0m \u001b[38;5;28;01mdef\u001b[39;00m \u001b[38;5;21mget\u001b[39m(\u001b[38;5;28mself\u001b[39m, url: \u001b[38;5;28mstr\u001b[39m) \u001b[38;5;241m-\u001b[39m\u001b[38;5;241m>\u001b[39m \u001b[38;5;28;01mNone\u001b[39;00m:\n\u001b[0;32m    362\u001b[0m \u001b[38;5;250m    \u001b[39m\u001b[38;5;124;03m\"\"\"Loads a web page in the current browser session.\"\"\"\u001b[39;00m\n\u001b[1;32m--> 363\u001b[0m     \u001b[38;5;28;43mself\u001b[39;49m\u001b[38;5;241;43m.\u001b[39;49m\u001b[43mexecute\u001b[49m\u001b[43m(\u001b[49m\u001b[43mCommand\u001b[49m\u001b[38;5;241;43m.\u001b[39;49m\u001b[43mGET\u001b[49m\u001b[43m,\u001b[49m\u001b[43m \u001b[49m\u001b[43m{\u001b[49m\u001b[38;5;124;43m\"\u001b[39;49m\u001b[38;5;124;43murl\u001b[39;49m\u001b[38;5;124;43m\"\u001b[39;49m\u001b[43m:\u001b[49m\u001b[43m \u001b[49m\u001b[43murl\u001b[49m\u001b[43m}\u001b[49m\u001b[43m)\u001b[49m\n",
      "File \u001b[1;32m~\\AppData\\Local\\Packages\\PythonSoftwareFoundation.Python.3.11_qbz5n2kfra8p0\\LocalCache\\local-packages\\Python311\\site-packages\\selenium\\webdriver\\remote\\webdriver.py:354\u001b[0m, in \u001b[0;36mWebDriver.execute\u001b[1;34m(self, driver_command, params)\u001b[0m\n\u001b[0;32m    352\u001b[0m response \u001b[38;5;241m=\u001b[39m \u001b[38;5;28mself\u001b[39m\u001b[38;5;241m.\u001b[39mcommand_executor\u001b[38;5;241m.\u001b[39mexecute(driver_command, params)\n\u001b[0;32m    353\u001b[0m \u001b[38;5;28;01mif\u001b[39;00m response:\n\u001b[1;32m--> 354\u001b[0m     \u001b[38;5;28;43mself\u001b[39;49m\u001b[38;5;241;43m.\u001b[39;49m\u001b[43merror_handler\u001b[49m\u001b[38;5;241;43m.\u001b[39;49m\u001b[43mcheck_response\u001b[49m\u001b[43m(\u001b[49m\u001b[43mresponse\u001b[49m\u001b[43m)\u001b[49m\n\u001b[0;32m    355\u001b[0m     response[\u001b[38;5;124m\"\u001b[39m\u001b[38;5;124mvalue\u001b[39m\u001b[38;5;124m\"\u001b[39m] \u001b[38;5;241m=\u001b[39m \u001b[38;5;28mself\u001b[39m\u001b[38;5;241m.\u001b[39m_unwrap_value(response\u001b[38;5;241m.\u001b[39mget(\u001b[38;5;124m\"\u001b[39m\u001b[38;5;124mvalue\u001b[39m\u001b[38;5;124m\"\u001b[39m, \u001b[38;5;28;01mNone\u001b[39;00m))\n\u001b[0;32m    356\u001b[0m     \u001b[38;5;28;01mreturn\u001b[39;00m response\n",
      "File \u001b[1;32m~\\AppData\\Local\\Packages\\PythonSoftwareFoundation.Python.3.11_qbz5n2kfra8p0\\LocalCache\\local-packages\\Python311\\site-packages\\selenium\\webdriver\\remote\\errorhandler.py:229\u001b[0m, in \u001b[0;36mErrorHandler.check_response\u001b[1;34m(self, response)\u001b[0m\n\u001b[0;32m    227\u001b[0m         alert_text \u001b[38;5;241m=\u001b[39m value[\u001b[38;5;124m\"\u001b[39m\u001b[38;5;124malert\u001b[39m\u001b[38;5;124m\"\u001b[39m]\u001b[38;5;241m.\u001b[39mget(\u001b[38;5;124m\"\u001b[39m\u001b[38;5;124mtext\u001b[39m\u001b[38;5;124m\"\u001b[39m)\n\u001b[0;32m    228\u001b[0m     \u001b[38;5;28;01mraise\u001b[39;00m exception_class(message, screen, stacktrace, alert_text)  \u001b[38;5;66;03m# type: ignore[call-arg]  # mypy is not smart enough here\u001b[39;00m\n\u001b[1;32m--> 229\u001b[0m \u001b[38;5;28;01mraise\u001b[39;00m exception_class(message, screen, stacktrace)\n",
      "\u001b[1;31mTimeoutException\u001b[0m: Message: timeout: Timed out receiving message from renderer: 299.840\n  (Session info: MicrosoftEdge=129.0.2792.89)\nStacktrace:\n\tGetHandleVerifier [0x00007FF754AF3A22+10594]\n\tMicrosoft::Applications::Events::ILogConfiguration::operator* [0x00007FF754A90449+323337]\n\t(No symbol) [0x00007FF7548AF16E]\n\t(No symbol) [0x00007FF75489ACA3]\n\t(No symbol) [0x00007FF75489AA2E]\n\t(No symbol) [0x00007FF754898C84]\n\t(No symbol) [0x00007FF7548992BF]\n\t(No symbol) [0x00007FF7548A5791]\n\t(No symbol) [0x00007FF7548BB7C7]\n\t(No symbol) [0x00007FF7548C092A]\n\t(No symbol) [0x00007FF754899C0A]\n\t(No symbol) [0x00007FF754899986]\n\t(No symbol) [0x00007FF7548BB576]\n\t(No symbol) [0x00007FF754931CFD]\n\t(No symbol) [0x00007FF7549177E3]\n\t(No symbol) [0x00007FF7548EB3EC]\n\t(No symbol) [0x00007FF7548EA8CD]\n\t(No symbol) [0x00007FF7548EAFB1]\n\tMicrosoft::Applications::Events::EventProperty::empty [0x00007FF754C7E4C4+918756]\n\tMicrosoft::Applications::Events::EventProperty::~EventProperty [0x00007FF754A1C9BF+54575]\n\tMicrosoft::Applications::Events::EventProperty::~EventProperty [0x00007FF754A0F557+199]\n\tMicrosoft::Applications::Events::EventProperty::empty [0x00007FF754C7D24D+914029]\n\tMicrosoft::Applications::Events::ILogConfiguration::operator* [0x00007FF754A97ED1+354705]\n\tMicrosoft::Applications::Events::ILogConfiguration::operator* [0x00007FF754A94384+339524]\n\tMicrosoft::Applications::Events::ILogConfiguration::operator* [0x00007FF754A944B9+339833]\n\tMicrosoft::Applications::Events::ILogConfiguration::operator* [0x00007FF754A8AD7C+301116]\n\tBaseThreadInitThunk [0x00007FFE09FD257D+29]\n\tRtlUserThreadStart [0x00007FFE0AB8AF08+40]\n"
     ]
    }
   ],
   "source": [
    "options = Options()\n",
    "service = Service(executable_path=edge_driver_path)\n",
    "driver = webdriver.Edge(service=service, options=options)\n",
    "\n",
    "data = []\n",
    "\n",
    "\n",
    "for link in vehicle_data['Link']:\n",
    "    driver.get(link)\n",
    "    time.sleep(random.uniform(1, 5))\n",
    "\n",
    "    try:\n",
    "        car_details = {}\n",
    "\n",
    "        title_element = driver.find_element(By.CSS_SELECTOR, \".title h1\")\n",
    "        full_title = title_element.text.strip()\n",
    "        car_details['Tên xe'] = full_title\n",
    "\n",
    "        parts = full_title.split('-')\n",
    "        if len(parts) > 1:\n",
    "            price_part = parts[-1].strip()\n",
    "            car_details['Gia xe'] = price_part\n",
    "        else:\n",
    "            car_details['Gia xe'] = ''\n",
    "\n",
    "\n",
    "        date_element = driver.find_element(By.CSS_SELECTOR, \".notes\")\n",
    "        date_text = date_element.text.strip()\n",
    "        car_details['Ngay bán'] = date_text.split('Đăng ngày')[-1].strip().split('.')[0]\n",
    "\n",
    "        specs = driver.find_elements(By.CSS_SELECTOR, \".box_car_detail .row\")\n",
    "        for spec in specs:\n",
    "            label = spec.find_element(By.CLASS_NAME, \"label\").text.strip()\n",
    "            value = spec.find_element(By.CLASS_NAME, \"inp\").text.strip() if spec.find_element(By.CLASS_NAME, \"inp\") else ''\n",
    "            car_details[label] = value\n",
    "\n",
    "        car_details_no_diacritics = {unidecode(k): unidecode(v) if isinstance(v, str) else v for k, v in car_details.items()}\n",
    "\n",
    "        data.append(car_details_no_diacritics)\n",
    "\n",
    "        df = pd.DataFrame([car_details_no_diacritics])\n",
    "        df.to_csv('bonbanh_used_cars_details.csv', mode='a', header=False, encoding='utf-8', index=False)\n",
    "\n",
    "    except Exception as e:\n",
    "        print(f\"Đã xảy ra lỗi khi lấy dữ liệu từ link {link}: {e}\")\n",
    "\n",
    "driver.quit()"
   ]
  },
  {
   "cell_type": "code",
   "execution_count": 26,
   "metadata": {},
   "outputs": [
    {
     "data": {
      "text/html": [
       "<div>\n",
       "<style scoped>\n",
       "    .dataframe tbody tr th:only-of-type {\n",
       "        vertical-align: middle;\n",
       "    }\n",
       "\n",
       "    .dataframe tbody tr th {\n",
       "        vertical-align: top;\n",
       "    }\n",
       "\n",
       "    .dataframe thead th {\n",
       "        text-align: right;\n",
       "    }\n",
       "</style>\n",
       "<table border=\"1\" class=\"dataframe\">\n",
       "  <thead>\n",
       "    <tr style=\"text-align: right;\">\n",
       "      <th></th>\n",
       "      <th>Ten xe</th>\n",
       "      <th>Gia xe</th>\n",
       "      <th>Ngay ban</th>\n",
       "      <th>Nam san xuat:</th>\n",
       "      <th>Tinh trang:</th>\n",
       "      <th>So Km da di:</th>\n",
       "      <th>Xuat xu:</th>\n",
       "      <th>Kieu dang:</th>\n",
       "      <th>Dong co:</th>\n",
       "      <th>Mau ngoai that:</th>\n",
       "      <th>Mau noi that:</th>\n",
       "      <th>So cho ngoi:</th>\n",
       "      <th>So cua:</th>\n",
       "    </tr>\n",
       "  </thead>\n",
       "  <tbody>\n",
       "    <tr>\n",
       "      <th>0</th>\n",
       "      <td>Xe Mercedes Benz S class S450L 2020 - 2 Ty 695...</td>\n",
       "      <td>2 Ty 695 Trieu</td>\n",
       "      <td>19/10/2024</td>\n",
       "      <td>2020</td>\n",
       "      <td>Xe da dung</td>\n",
       "      <td>39,000 Km</td>\n",
       "      <td>Lap rap trong nuoc</td>\n",
       "      <td>Sedan</td>\n",
       "      <td>Xang 3.0 L</td>\n",
       "      <td>Trang</td>\n",
       "      <td>Den</td>\n",
       "      <td>5 cho</td>\n",
       "      <td>4 cua</td>\n",
       "    </tr>\n",
       "  </tbody>\n",
       "</table>\n",
       "</div>"
      ],
      "text/plain": [
       "                                              Ten xe          Gia xe  \\\n",
       "0  Xe Mercedes Benz S class S450L 2020 - 2 Ty 695...  2 Ty 695 Trieu   \n",
       "\n",
       "      Ngay ban Nam san xuat: Tinh trang: So Km da di:            Xuat xu:  \\\n",
       "0  19/10/2024           2020  Xe da dung    39,000 Km  Lap rap trong nuoc   \n",
       "\n",
       "  Kieu dang:    Dong co: Mau ngoai that: Mau noi that: So cho ngoi: So cua:  \n",
       "0      Sedan  Xang 3.0 L           Trang           Den        5 cho   4 cua  "
      ]
     },
     "execution_count": 26,
     "metadata": {},
     "output_type": "execute_result"
    }
   ],
   "source": [
    "df.head()"
   ]
  }
 ],
 "metadata": {
  "kernelspec": {
   "display_name": "Python 3",
   "language": "python",
   "name": "python3"
  },
  "language_info": {
   "codemirror_mode": {
    "name": "ipython",
    "version": 3
   },
   "file_extension": ".py",
   "mimetype": "text/x-python",
   "name": "python",
   "nbconvert_exporter": "python",
   "pygments_lexer": "ipython3",
   "version": "3.11.9"
  }
 },
 "nbformat": 4,
 "nbformat_minor": 2
}
